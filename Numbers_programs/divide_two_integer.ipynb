{
 "cells": [
  {
   "cell_type": "markdown",
   "metadata": {},
   "source": [
    "## Divide two integer\n",
    "\n",
    "    Given two integers dividend and divisor, divide two integers without using multiplication, division, and mod operator.\n",
    "\n",
    "    The integer division should truncate toward zero, which means losing its fractional part. For example, 8.345 would be truncated to 8, and -2.7335 would be truncated to -2.\n",
    "\n",
    "    Return the quotient after dividing dividend by divisor.\n",
    "\n",
    "    Note: Assume we are dealing with an environment that could only store integers within the 32-bit signed integer range: [−231, 231 − 1]. For this problem, if the quotient is strictly greater than 231 - 1, then return 231 - 1, and if the quotient is strictly less than -231, then return -231.\n",
    "\n",
    "    \n",
    "\n",
    "    Example 1:\n",
    "\n",
    "    Input: dividend = 10, divisor = 3\n",
    "    Output: 3\n",
    "    Explanation: 10/3 = 3.33333.. which is truncated to 3.\n",
    "    Example 2:\n",
    "\n",
    "    Input: dividend = 7, divisor = -3\n",
    "    Output: -2\n",
    "    Explanation: 7/-3 = -2.33333.. which is truncated to -2."
   ]
  },
  {
   "cell_type": "code",
   "execution_count": 16,
   "metadata": {},
   "outputs": [
    {
     "name": "stdout",
     "output_type": "stream",
     "text": [
      "3\n"
     ]
    }
   ],
   "source": [
    "from math import floor,ceil\n",
    "class Solution:\n",
    "    def divide(self, dividend: int, divisor: int) -> int:\n",
    "        if dividend == -2147483648 and divisor == -1:\n",
    "            return 2147483647\n",
    "        else:\n",
    "            division = dividend/divisor\n",
    "            if division > 0:\n",
    "                return floor(division)\n",
    "            return ceil(division)\n",
    "\n",
    "if __name__ == \"__main__\" :\n",
    "\n",
    "    dividend = 10\n",
    "    divisor = 3\n",
    "    obj = Solution()\n",
    "    print(obj.divide(dividend,divisor))   "
   ]
  },
  {
   "cell_type": "code",
   "execution_count": 12,
   "metadata": {},
   "outputs": [
    {
     "name": "stdout",
     "output_type": "stream",
     "text": [
      "[1, 5, 1]\n"
     ]
    }
   ],
   "source": [
    "from itertools import permutations\n",
    "n= [1,1,5]\n",
    "l= sorted(list(permutations(n)))\n",
    "if list(max(l)) == n:\n",
    "    print(list(l[0]))\n",
    "else:\n",
    "    for i in range(len(l)):\n",
    "        if list(l[i]) > n:\n",
    "            n = list(l[i])\n",
    "            break\n",
    "    print(n)"
   ]
  }
 ],
 "metadata": {
  "kernelspec": {
   "display_name": "base",
   "language": "python",
   "name": "python3"
  },
  "language_info": {
   "codemirror_mode": {
    "name": "ipython",
    "version": 3
   },
   "file_extension": ".py",
   "mimetype": "text/x-python",
   "name": "python",
   "nbconvert_exporter": "python",
   "pygments_lexer": "ipython3",
   "version": "3.9.12"
  }
 },
 "nbformat": 4,
 "nbformat_minor": 2
}
