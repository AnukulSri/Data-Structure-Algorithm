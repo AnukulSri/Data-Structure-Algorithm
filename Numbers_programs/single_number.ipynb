{
 "cells": [
  {
   "cell_type": "markdown",
   "metadata": {},
   "source": [
    "## Single number\n",
    "\n",
    "    Given a non-empty array of integers nums, every element appears twice except for one. Find that single one.\n",
    "\n",
    "    You must implement a solution with a linear runtime complexity and use only constant extra space.\n",
    "\n",
    "    \n",
    "\n",
    "    Example 1:\n",
    "\n",
    "    Input: nums = [2,2,1]\n",
    "    Output: 1\n",
    "    Example 2:\n",
    "\n",
    "    Input: nums = [4,1,2,1,2]\n",
    "    Output: 4\n",
    "    Example 3:\n",
    "\n",
    "    Input: nums = [1]\n",
    "    Output: 1"
   ]
  },
  {
   "cell_type": "code",
   "execution_count": 40,
   "metadata": {},
   "outputs": [
    {
     "name": "stdout",
     "output_type": "stream",
     "text": [
      "1\n"
     ]
    }
   ],
   "source": [
    "nums = [1]\n",
    "p = nums.copy()\n",
    "l= len(nums)\n",
    "i=0\n",
    "while i<l:\n",
    "    # print(p)\n",
    "    x = p.pop(i)\n",
    "    if x not in p:\n",
    "        print(nums[i])\n",
    "        break\n",
    "    p = nums.copy()\n",
    "    i +=1\n"
   ]
  }
 ],
 "metadata": {
  "kernelspec": {
   "display_name": "base",
   "language": "python",
   "name": "python3"
  },
  "language_info": {
   "codemirror_mode": {
    "name": "ipython",
    "version": 3
   },
   "file_extension": ".py",
   "mimetype": "text/x-python",
   "name": "python",
   "nbconvert_exporter": "python",
   "pygments_lexer": "ipython3",
   "version": "3.9.12"
  }
 },
 "nbformat": 4,
 "nbformat_minor": 2
}
