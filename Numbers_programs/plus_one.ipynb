{
 "cells": [
  {
   "cell_type": "markdown",
   "metadata": {},
   "source": [
    "## plus one\n",
    "\n",
    "    You are given a large integer represented as an integer array digits, where each digits[i] is the ith digit of the integer. The digits are ordered from most significant to least significant in left-to-right order. The large integer does not contain any leading 0's.\n",
    "\n",
    "    Increment the large integer by one and return the resulting array of digits.\n",
    "\n",
    "    \n",
    "\n",
    "    Example 1:\n",
    "\n",
    "    Input: digits = [1,2,3]\n",
    "    Output: [1,2,4]\n",
    "    Explanation: The array represents the integer 123.\n",
    "    Incrementing by one gives 123 + 1 = 124.\n",
    "    Thus, the result should be [1,2,4].\n",
    "    Example 2:\n",
    "\n",
    "    Input: digits = [4,3,2,1]\n",
    "    Output: [4,3,2,2]\n",
    "    Explanation: The array represents the integer 4321.\n",
    "    Incrementing by one gives 4321 + 1 = 4322.\n",
    "    Thus, the result should be [4,3,2,2].\n",
    "    Example 3:\n",
    "\n",
    "    Input: digits = [9]\n",
    "    Output: [1,0]\n",
    "    Explanation: The array represents the integer 9.\n",
    "    Incrementing by one gives 9 + 1 = 10.\n",
    "    Thus, the result should be [1,0]."
   ]
  },
  {
   "cell_type": "code",
   "execution_count": 17,
   "metadata": {},
   "outputs": [
    {
     "name": "stdout",
     "output_type": "stream",
     "text": [
      "[1, 2, 3, 5]\n"
     ]
    }
   ],
   "source": [
    "class Solution:\n",
    "    def plusOne(self, digits: list[int]) -> list[int]:\n",
    "        p=0\n",
    "        l=[]\n",
    "        for i in range(len(digits)):\n",
    "            p = (p*10) + digits[i]\n",
    "            s = str(p+1)\n",
    "        for i in range(len(s)):\n",
    "            l.append(int(s[i]))\n",
    "\n",
    "        return l\n",
    "\n",
    "if __name__ == \"__main__\":\n",
    "\n",
    "    l = [1,2,3,4]\n",
    "    obj = Solution()\n",
    "    print(obj.plusOne(l))    "
   ]
  }
 ],
 "metadata": {
  "kernelspec": {
   "display_name": "base",
   "language": "python",
   "name": "python3"
  },
  "language_info": {
   "codemirror_mode": {
    "name": "ipython",
    "version": 3
   },
   "file_extension": ".py",
   "mimetype": "text/x-python",
   "name": "python",
   "nbconvert_exporter": "python",
   "pygments_lexer": "ipython3",
   "version": "3.9.12"
  }
 },
 "nbformat": 4,
 "nbformat_minor": 2
}
