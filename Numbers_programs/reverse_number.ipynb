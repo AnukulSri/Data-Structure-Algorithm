{
 "cells": [
  {
   "cell_type": "markdown",
   "metadata": {},
   "source": [
    "## Reverse Integer\n",
    "\n",
    "- Given a signed 32-bit integer x, return x with its digits reversed. If reversing x causes the value to go outside the signed 32-bit integer range [-231, 231 - 1], then return 0.\n",
    "\n",
    "#### Examples:\n",
    "\n",
    "    Example 1:\n",
    "\n",
    "    Input: x = 123\n",
    "    Output: 321\n",
    "    Example 2:\n",
    "\n",
    "    Input: x = -123\n",
    "    Output: -321\n",
    "    Example 3:\n",
    "\n",
    "    Input: x = 120\n",
    "    Output: 21"
   ]
  },
  {
   "cell_type": "code",
   "execution_count": 62,
   "metadata": {},
   "outputs": [
    {
     "name": "stdout",
     "output_type": "stream",
     "text": [
      "-123\n"
     ]
    }
   ],
   "source": [
    "class solution:\n",
    "    def revrse_number(self,x:int) -> int:\n",
    "        rev=0\n",
    "\n",
    "        if x<0:\n",
    "            s = str(x)\n",
    "            p = s[1:len(s)]\n",
    "            p = p[::-1]\n",
    "\n",
    "            if int('-'+p) >= -2147483648 and int('-'+p) <= 2147483647: # checking that reversed number is in range of integer or not\n",
    "              return int('-'+p)\n",
    "            else: \n",
    "                return 0\n",
    " \n",
    "        else: \n",
    "            while x>0:\n",
    "                t = x%10\n",
    "                rev = (rev*10) + t\n",
    "                x = x//10\n",
    "            if rev >= -2147483648 and rev <= 2147483647: # checking that reversed number is in range of integer or not\n",
    "              return rev\n",
    "            else: \n",
    "                return 0\n",
    "\n",
    "if __name__ == '__main__':\n",
    "    x= int(input())\n",
    "    obj = solution()\n",
    "    print(obj.revrse_number(x))"
   ]
  }
 ],
 "metadata": {
  "kernelspec": {
   "display_name": "base",
   "language": "python",
   "name": "python3"
  },
  "language_info": {
   "codemirror_mode": {
    "name": "ipython",
    "version": 3
   },
   "file_extension": ".py",
   "mimetype": "text/x-python",
   "name": "python",
   "nbconvert_exporter": "python",
   "pygments_lexer": "ipython3",
   "version": "3.9.12"
  }
 },
 "nbformat": 4,
 "nbformat_minor": 2
}
