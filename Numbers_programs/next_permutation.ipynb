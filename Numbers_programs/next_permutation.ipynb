{
 "cells": [
  {
   "cell_type": "markdown",
   "metadata": {},
   "source": [
    "## Next Permutation:\n",
    "\n",
    "    A permutation of an array of integers is an arrangement of its members into a sequence or linear order.\n",
    "\n",
    "    For example, for arr = [1,2,3], the following are all the permutations of arr: [1,2,3], [1,3,2], [2, 1, 3], [2, 3, 1], [3,1,2], [3,2,1].\n",
    "    The next permutation of an array of integers is the next lexicographically greater permutation of its integer. More formally, if all the permutations of the array are sorted in one container according to their lexicographical order, then the next permutation of that array is the permutation that follows it in the sorted container. If such arrangement is not possible, the array must be rearranged as the lowest possible order (i.e., sorted in ascending order).\n",
    "\n",
    "    For example, the next permutation of arr = [1,2,3] is [1,3,2].\n",
    "    Similarly, the next permutation of arr = [2,3,1] is [3,1,2].\n",
    "    While the next permutation of arr = [3,2,1] is [1,2,3] because [3,2,1] does not have a lexicographical larger rearrangement.\n",
    "    Given an array of integers nums, find the next permutation of nums.\n",
    "\n",
    "    The replacement must be in place and use only constant extra memory.\n",
    "\n",
    "    Example 1:\n",
    "\n",
    "    Input: nums = [1,2,3]\n",
    "    Output: [1,3,2]\n",
    "    Example 2:\n",
    "\n",
    "    Input: nums = [3,2,1]\n",
    "    Output: [1,2,3]\n",
    "    Example 3:\n",
    "\n",
    "    Input: nums = [1,1,5]\n",
    "    Output: [1,5,1]"
   ]
  },
  {
   "cell_type": "code",
   "execution_count": 1,
   "metadata": {},
   "outputs": [
    {
     "name": "stdout",
     "output_type": "stream",
     "text": [
      "[1, 3, 2]\n"
     ]
    }
   ],
   "source": [
    "from itertools import permutations\n",
    "\n",
    "class solution():\n",
    "    def next_permutation(self, nums : list[int]) -> list[int]:\n",
    "        l= sorted(list(permutations(nums)))\n",
    "        if list(max(l)) == nums:\n",
    "            nums = list(l[0])\n",
    "            return nums\n",
    "        else:\n",
    "            for i in range(len(l)):\n",
    "                if list(l[i]) > nums:\n",
    "                    nums = list(l[i])\n",
    "                    break\n",
    "            return nums\n",
    "\n",
    "if __name__ == \"__main__\":\n",
    "\n",
    "    nums = [1,2,3]\n",
    "    obj = solution()\n",
    "    print(obj.next_permutation(nums))"
   ]
  }
 ],
 "metadata": {
  "kernelspec": {
   "display_name": "base",
   "language": "python",
   "name": "python3"
  },
  "language_info": {
   "codemirror_mode": {
    "name": "ipython",
    "version": 3
   },
   "file_extension": ".py",
   "mimetype": "text/x-python",
   "name": "python",
   "nbconvert_exporter": "python",
   "pygments_lexer": "ipython3",
   "version": "3.9.12"
  }
 },
 "nbformat": 4,
 "nbformat_minor": 2
}
