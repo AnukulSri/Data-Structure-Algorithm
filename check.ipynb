{
 "cells": [
  {
   "cell_type": "code",
   "execution_count": 7,
   "metadata": {},
   "outputs": [
    {
     "name": "stdout",
     "output_type": "stream",
     "text": [
      "3\n"
     ]
    }
   ],
   "source": [
    "a = [1,8,3,3,5]\n",
    "c = [3,9,5,1,9]\n",
    "c.sort(reverse=True)\n",
    "s = 0\n",
    "p=sum(a)\n",
    "count=0\n",
    "# print(p)\n",
    "\n",
    "for i in c:\n",
    "    count +=1\n",
    "    s += i\n",
    "\n",
    "    if s >= p:\n",
    "        print(count)\n",
    "        break\n"
   ]
  },
  {
   "cell_type": "code",
   "execution_count": 6,
   "metadata": {},
   "outputs": [
    {
     "data": {
      "text/plain": [
       "[7, 4, 2, 2]"
      ]
     },
     "execution_count": 6,
     "metadata": {},
     "output_type": "execute_result"
    }
   ],
   "source": [
    "c = [2,4,2,7]\n",
    "c.sort(reverse=True)\n",
    "c"
   ]
  },
  {
   "cell_type": "code",
   "execution_count": 21,
   "metadata": {},
   "outputs": [
    {
     "name": "stdout",
     "output_type": "stream",
     "text": [
      "4\n"
     ]
    }
   ],
   "source": [
    "# nums =[2,11,10,1,3]\n",
    "nums = [1,1,2,4,9]\n",
    "k=9\n",
    "c=0\n",
    "for i in nums:\n",
    "    if i < k :\n",
    "        c +=1\n",
    "print(c)"
   ]
  },
  {
   "cell_type": "code",
   "execution_count": 5,
   "metadata": {},
   "outputs": [
    {
     "data": {
      "text/plain": [
       "True"
      ]
     },
     "execution_count": 5,
     "metadata": {},
     "output_type": "execute_result"
    }
   ],
   "source": [
    "a = 'anukul'\n",
    "a.startswith(\"ank\")\n",
    "a.endswith(\"ul\")"
   ]
  },
  {
   "cell_type": "code",
   "execution_count": 7,
   "metadata": {},
   "outputs": [
    {
     "ename": "TypeError",
     "evalue": "pop expected at most 1 argument, got 2",
     "output_type": "error",
     "traceback": [
      "\u001b[1;31m---------------------------------------------------------------------------\u001b[0m",
      "\u001b[1;31mTypeError\u001b[0m                                 Traceback (most recent call last)",
      "Cell \u001b[1;32mIn [7], line 2\u001b[0m\n\u001b[0;32m      1\u001b[0m a\u001b[38;5;241m=\u001b[39m[\u001b[38;5;241m1\u001b[39m,\u001b[38;5;241m2\u001b[39m,\u001b[38;5;241m3\u001b[39m,\u001b[38;5;241m4\u001b[39m,\u001b[38;5;241m5\u001b[39m]\n\u001b[1;32m----> 2\u001b[0m \u001b[43ma\u001b[49m\u001b[38;5;241;43m.\u001b[39;49m\u001b[43mpop\u001b[49m\u001b[43m(\u001b[49m\u001b[38;5;241;43m0\u001b[39;49m\u001b[43m,\u001b[49m\u001b[38;5;241;43m1\u001b[39;49m\u001b[43m)\u001b[49m\n",
      "\u001b[1;31mTypeError\u001b[0m: pop expected at most 1 argument, got 2"
     ]
    }
   ],
   "source": [
    "a=[1,2,3,4,5]\n",
    "a.pop(0)"
   ]
  },
  {
   "cell_type": "code",
   "execution_count": 10,
   "metadata": {},
   "outputs": [
    {
     "name": "stdout",
     "output_type": "stream",
     "text": [
      "1 2 -1 \n",
      "1 -1 3 \n"
     ]
    }
   ],
   "source": [
    "l = [[1,2,-1],[1,-1,3]]\n",
    "for i in range(len(l)):\n",
    "    for j in range(len(l[i])):\n",
    "        print(l[i][j],end= ' ')\n",
    "    print()"
   ]
  },
  {
   "cell_type": "code",
   "execution_count": 78,
   "metadata": {},
   "outputs": [
    {
     "name": "stdout",
     "output_type": "stream",
     "text": [
      "[[1, 2, -1], [4, -1, 6], [7, 8, 9]]\n",
      "[[1, 2, 9], [4, 8, 6], [7, 8, 9]]\n"
     ]
    }
   ],
   "source": [
    "# l = [[1,2,-1],[1,-1,3]]\n",
    "matrix= [[1,2,-1],[4,-1,6],[7,8,9]]\n",
    "# l = [[3,-1],[5,2]]\n",
    "# matrix = [[-1,0,0,2,2],[2,0,0,2,1],[4,3,2,1,1],[-1,-1,0,2,4],[1,0,3,-1,0]]\n",
    "m = len(matrix)\n",
    "n = len(matrix[0])\n",
    "answer = matrix.copy()\n",
    "for i in range(n):\n",
    "    maxi=0\n",
    "    for j in range(m):\n",
    "        maxi=max(maxi, answer[j][i])\n",
    "    for j in range(m):\n",
    "        if answer[j][i] == -1:\n",
    "            answer[j][i] = maxi\n",
    "\n",
    "print(answer)"
   ]
  },
  {
   "cell_type": "code",
   "execution_count": 14,
   "metadata": {},
   "outputs": [
    {
     "name": "stdout",
     "output_type": "stream",
     "text": [
      "One\n",
      "Two\n",
      "Exception passed\n",
      "Four\n",
      "Five\n"
     ]
    }
   ],
   "source": [
    "print('One')\n",
    "print('Two')\n",
    "\n",
    "try:\n",
    "   print(10/0)\n",
    "except ZeroDivisionError:\n",
    "   print(\"Exception passed\")\n",
    "print('Four')\n",
    "print('Five')"
   ]
  },
  {
   "cell_type": "code",
   "execution_count": null,
   "metadata": {},
   "outputs": [],
   "source": [
    "class Employee:\n",
    "   def __init__ (self):\n",
    "       print(\"constructor is executed automatically at the time of object creation\")\n",
    "\n",
    "emp = Employee()"
   ]
  },
  {
   "cell_type": "code",
   "execution_count": null,
   "metadata": {},
   "outputs": [],
   "source": [
    "class Demo:\n",
    "   def sum(self, a=None, b=None, c=None):\n",
    "       if a!=None and b!= None and c!= None:\n",
    "           print('The Sum of 3 Numbers:', a + b + c)\n",
    "       elif a!=None and b!= None:\n",
    "           print('The Sum of 2 Numbers:', a + b)\n",
    "       else:\n",
    "           print('Please provide 2 or 3 arguments')\n",
    "\n",
    "d=Demo()\n",
    "d.sum(10,20,30)\n",
    "d.sum(10,20)\n",
    "d.sum(10)"
   ]
  },
  {
   "cell_type": "code",
   "execution_count": 1,
   "metadata": {},
   "outputs": [
    {
     "name": "stdout",
     "output_type": "stream",
     "text": [
      "1 [2, 3, 4] 5\n",
      "[(1, 'a'), (2, 'b'), (3, 'c'), (4, 'd'), (5, 'e')]\n"
     ]
    }
   ],
   "source": [
    "# Advanced list techniques\n",
    "numbers = [1, 2, 3, 4, 5]\n",
    "letters = ['a', 'b', 'c', 'd', 'e']\n",
    "\n",
    "# List unpacking\n",
    "a, *b, c = numbers\n",
    "print(a, b, c)\n",
    "\n",
    "# zip() function\n",
    "zipped = zip(numbers, letters)\n",
    "print(list(zipped))\n"
   ]
  },
  {
   "cell_type": "code",
   "execution_count": 5,
   "metadata": {},
   "outputs": [
    {
     "name": "stdout",
     "output_type": "stream",
     "text": [
      "[[1, 'hi', 3], [4, 5, 6]]\n",
      "[[1, 'hi', 3], [4, 5, 6]]\n"
     ]
    }
   ],
   "source": [
    "l = [[1,2,3],[4,5,6]]\n",
    "x = l.copy()\n",
    "x[0][1] = \"hi\"\n",
    "print(x)\n",
    "print(l)"
   ]
  },
  {
   "cell_type": "code",
   "execution_count": 10,
   "metadata": {},
   "outputs": [
    {
     "data": {
      "text/plain": [
       "[90, 50, 24, 10, 2]"
      ]
     },
     "execution_count": 10,
     "metadata": {},
     "output_type": "execute_result"
    }
   ],
   "source": [
    "l = [2, 50, 10, 24, 90]\n",
    "s = sorted(l)\n",
    "s # Output : [2,10,24,50,90]"
   ]
  },
  {
   "cell_type": "code",
   "execution_count": 16,
   "metadata": {},
   "outputs": [
    {
     "name": "stdout",
     "output_type": "stream",
     "text": [
      "[1, 4, 9, 16, 25]\n"
     ]
    }
   ],
   "source": [
    "# by using list comprehension\n",
    "my_list = [1,2,3,4,5]\n",
    "\n",
    "print([i**2 for i in my_list])\n"
   ]
  },
  {
   "cell_type": "code",
   "execution_count": null,
   "metadata": {},
   "outputs": [],
   "source": [
    "# combing lists with the help of zip() function\n",
    "my_list_1 = [5, 2, 90, 24, 10]\n",
    "my_list_2 = [6, 3, 91, 25, 12]\n",
    "\n",
    "# combined\n",
    "my_combined_list = list(zip(my_list_1, my_list_2))\n",
    "print(my_combined_list)  # Output : [(5, 6), (2, 3), (90, 91), (24, 25), (10, 12)]\n"
   ]
  },
  {
   "cell_type": "code",
   "execution_count": 19,
   "metadata": {},
   "outputs": [
    {
     "name": "stdout",
     "output_type": "stream",
     "text": [
      "1 2 3 "
     ]
    }
   ],
   "source": [
    "import array\n",
    "arr = array.array('i', [1, 2, 3])\n",
    "for i in range(len(arr)):\n",
    "    print(arr[i],end=' ')"
   ]
  },
  {
   "cell_type": "code",
   "execution_count": 3,
   "metadata": {},
   "outputs": [
    {
     "ename": "TypeError",
     "evalue": "'int' object is not iterable",
     "output_type": "error",
     "traceback": [
      "\u001b[1;31m---------------------------------------------------------------------------\u001b[0m",
      "\u001b[1;31mTypeError\u001b[0m                                 Traceback (most recent call last)",
      "Cell \u001b[1;32mIn [3], line 1\u001b[0m\n\u001b[1;32m----> 1\u001b[0m l \u001b[38;5;241m=\u001b[39m \u001b[38;5;28;43mlist\u001b[39;49m\u001b[43m(\u001b[49m\u001b[38;5;241;43m5\u001b[39;49m\u001b[43m)\u001b[49m\n\u001b[0;32m      2\u001b[0m \u001b[38;5;28;01mfor\u001b[39;00m i \u001b[38;5;129;01min\u001b[39;00m \u001b[38;5;28mrange\u001b[39m(\u001b[38;5;241m0\u001b[39m,\u001b[38;5;241m7\u001b[39m):\n\u001b[0;32m      3\u001b[0m     l\u001b[38;5;241m.\u001b[39mappend(i)\n",
      "\u001b[1;31mTypeError\u001b[0m: 'int' object is not iterable"
     ]
    }
   ],
   "source": [
    "l = list(5)\n",
    "for i in range(0,7):\n",
    "    l.append(i)\n",
    "l"
   ]
  }
 ],
 "metadata": {
  "kernelspec": {
   "display_name": "base",
   "language": "python",
   "name": "python3"
  },
  "language_info": {
   "codemirror_mode": {
    "name": "ipython",
    "version": 3
   },
   "file_extension": ".py",
   "mimetype": "text/x-python",
   "name": "python",
   "nbconvert_exporter": "python",
   "pygments_lexer": "ipython3",
   "version": "3.9.12"
  }
 },
 "nbformat": 4,
 "nbformat_minor": 2
}
