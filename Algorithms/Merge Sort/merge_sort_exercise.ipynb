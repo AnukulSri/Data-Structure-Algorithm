{
 "cells": [
  {
   "cell_type": "markdown",
   "metadata": {},
   "source": [
    "## Merge Sort Exercise\n",
    "Modify merge_sort function such that it can sort following list of athletes as per the time taken by them in the marathon,\n",
    "\n",
    "    elements = [\n",
    "            { 'name': 'vedanth',   'age': 17, 'time_hours': 1},\n",
    "            { 'name': 'rajab', 'age': 12,  'time_hours': 3},\n",
    "            { 'name': 'vignesh',  'age': 21,  'time_hours': 2.5},\n",
    "            { 'name': 'chinmay',  'age': 24,  'time_hours': 1.5},\n",
    "        ]"
   ]
  },
  {
   "cell_type": "markdown",
   "metadata": {},
   "source": [
    "merge_sort function should take key from an athlete's marathon log and sort the list as per that key. For example,\n",
    "- merge_sort(elements, key='time_hours', descending=True)\n",
    "\n",
    "#### Output\n",
    "\n",
    "    elements = [\n",
    "            {'name': 'rajab', 'age': 12, 'time_hours': 3},\n",
    "            {'name': 'vignesh', 'age': 21, 'time_hours': 2.5},\n",
    "            {'name': 'chinmay', 'age': 24, 'time_hours': 1.5},\n",
    "            {'name': 'vedanth', 'age': 17, 'time_hours': 1},\n",
    "        ]\n",
    "\n",
    "#### But if you call it like this,\n",
    "\n",
    "- merge_sort(elements, key='name')\n",
    "\n",
    "#### Output: \n",
    "    elements = [\n",
    "            { 'name': 'chinmay',   'age': 24, 'time_hours': 1.5},\n",
    "            { 'name': 'rajab', 'age': 12,  'time_hours': 3},\n",
    "            { 'name': 'vedanth',  'age': 17,  'time_hours': 1},\n",
    "            { 'name': 'vignesh',  'age': 21,  'time_hours': 2.5},\n",
    "        ]\n"
   ]
  },
  {
   "cell_type": "code",
   "execution_count": 59,
   "metadata": {},
   "outputs": [
    {
     "name": "stdout",
     "output_type": "stream",
     "text": [
      "{'name': 'rajab', 'age': 12, 'time_hours': 3}\n",
      "{'name': 'vignesh', 'age': 21, 'time_hours': 2.5}\n",
      "{'name': 'chinmay', 'age': 24, 'time_hours': 1.5}\n",
      "{'name': 'vedanth', 'age': 17, 'time_hours': 1}\n",
      "\n",
      "assigning descending to false\n",
      "{'name': 'chinmay', 'age': 24, 'time_hours': 1.5}\n",
      "{'name': 'rajab', 'age': 12, 'time_hours': 3}\n",
      "{'name': 'vedanth', 'age': 17, 'time_hours': 1}\n",
      "{'name': 'vignesh', 'age': 21, 'time_hours': 2.5}\n"
     ]
    }
   ],
   "source": [
    "def merge_sort(arr,key,descending = False):\n",
    "\n",
    "    if len(arr) >1:\n",
    "        mid = len(arr)//2\n",
    "\n",
    "        l = arr[:mid]\n",
    "        r = arr[mid:]\n",
    "\n",
    "        merge_sort(l,key,descending)\n",
    "        merge_sort(r,key,descending)\n",
    "        # print(l)\n",
    "        # print(r)\n",
    "\n",
    "        i=j=k=0\n",
    "\n",
    "        if descending == True:\n",
    "\n",
    "            while i <len(l) and j<len(r):\n",
    "                # print(\"Left \",l[i][key])\n",
    "                # print (\"Right \",r[j][key])\n",
    "\n",
    "                if l[i][key] <= r[j][key]:\n",
    "                    arr[k] = r[j]\n",
    "                    j+=1\n",
    "                else :\n",
    "                    arr[k] = l[i]\n",
    "                    i+=1\n",
    "                k+=1\n",
    "        else : \n",
    "             while i <len(l) and j<len(r):\n",
    "                # print(\"Left \",l[i]['name'])\n",
    "                # print (\"Right \",r[j]['name'])\n",
    "\n",
    "                if l[i][key] <= r[j][key]:\n",
    "                    arr[k] = l[i]\n",
    "                    i+=1\n",
    "                else :\n",
    "                    arr[k] = r[j]\n",
    "                    j+=1\n",
    "                k+=1\n",
    "        while i <len(l):\n",
    "            arr[k] = l[i]\n",
    "            i+=1\n",
    "            k+=1\n",
    "        while j<len(r):\n",
    "            arr[k] = r[j]\n",
    "            j+=1\n",
    "            k+=1\n",
    "                \n",
    "\n",
    "arr = [     { 'name': 'chinmay',   'age': 24, 'time_hours': 1.5},\n",
    "            { 'name': 'rajab', 'age': 12,  'time_hours': 3},\n",
    "            { 'name': 'vedanth',  'age': 17,  'time_hours': 1},\n",
    "            { 'name': 'vignesh',  'age': 21,  'time_hours': 2.5}\n",
    "        ]\n",
    "\n",
    "merge_sort(arr,key='time_hours',descending=True)\n",
    "for i in range(len(arr)):\n",
    "    print(arr[i])\n",
    "    \n",
    "print()\n",
    "print(\"assigning descending to false\")\n",
    "\n",
    "\n",
    "merge_sort(arr,key='name')\n",
    "for i in range(len(arr)):\n",
    "    print(arr[i])"
   ]
  },
  {
   "cell_type": "code",
   "execution_count": null,
   "metadata": {},
   "outputs": [],
   "source": [
    "\n"
   ]
  }
 ],
 "metadata": {
  "kernelspec": {
   "display_name": "base",
   "language": "python",
   "name": "python3"
  },
  "language_info": {
   "codemirror_mode": {
    "name": "ipython",
    "version": 3
   },
   "file_extension": ".py",
   "mimetype": "text/x-python",
   "name": "python",
   "nbconvert_exporter": "python",
   "pygments_lexer": "ipython3",
   "version": "3.9.12"
  }
 },
 "nbformat": 4,
 "nbformat_minor": 2
}
