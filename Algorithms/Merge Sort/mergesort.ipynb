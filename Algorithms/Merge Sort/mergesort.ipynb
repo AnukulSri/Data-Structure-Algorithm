{
 "cells": [
  {
   "cell_type": "markdown",
   "metadata": {},
   "source": [
    "## Merge Sort Algorithm\n",
    "\n",
    "1. Sorting 2 sorted array using another array."
   ]
  },
  {
   "cell_type": "code",
   "execution_count": 1,
   "metadata": {},
   "outputs": [
    {
     "name": "stdout",
     "output_type": "stream",
     "text": [
      "[4, 9, 17, 21, 25, 29, 28, 32]\n"
     ]
    }
   ],
   "source": [
    "a1 = [17,21,29,28]\n",
    "a2 =[4,9,25,32]\n",
    "\n",
    "def merge_two_sorted_list(a1,a2):\n",
    "    a3=[]\n",
    "    s= 0\n",
    "    e=0\n",
    "    while s < len(a1) and e < len(a2):\n",
    "\n",
    "        if a1[s] <= a2[e]:\n",
    "            a3.append(a1[s])\n",
    "            s+=1\n",
    "        else :\n",
    "            a3.append(a2[e])\n",
    "            e+=1\n",
    "\n",
    "    while s < len(a1):\n",
    "            a3.append(a1[s])\n",
    "            s+=1\n",
    "    while e < len(a2):\n",
    "        a3.append(a2[e])\n",
    "        e+=1\n",
    "    return a3\n",
    "a3= merge_two_sorted_list(a1,a2)\n",
    "print(a3)\n"
   ]
  },
  {
   "cell_type": "code",
   "execution_count": 30,
   "metadata": {},
   "outputs": [
    {
     "name": "stdout",
     "output_type": "stream",
     "text": [
      "L  [11]\n",
      "R  [13]\n",
      "L  [12]\n",
      "R  [11, 13]\n",
      "L  [12]\n",
      "R  [11, 13]\n",
      "L  [7]\n",
      "R  [6]\n",
      "L  [5]\n",
      "R  [6, 7]\n",
      "L  [11, 12, 13]\n",
      "R  [5, 6, 7]\n",
      "L  [11, 12, 13]\n",
      "R  [5, 6, 7]\n",
      "L  [11, 12, 13]\n",
      "R  [5, 6, 7]\n",
      "[5, 6, 7, 11, 12, 13]\n"
     ]
    }
   ],
   "source": [
    "def merge(arr):\n",
    "    if len(arr) > 1:\n",
    "        mid= len(arr)//2\n",
    "        L = arr[:mid]\n",
    "        R = arr[mid:]\n",
    "        \n",
    "        merge(L)\n",
    "        merge(R)\n",
    "\n",
    "        i = j = k =0\n",
    "\n",
    "        while i< len(L) and j < len(R):\n",
    "            # print(\"L \",L)\n",
    "\n",
    "            # print(\"R \",R)\n",
    "\n",
    "            if L[i] <= R[j]:\n",
    "                arr[k] = L[i]\n",
    "                i+=1\n",
    "            else:\n",
    "                arr[k] = R[j]\n",
    "                j+=1\n",
    "            k +=1\n",
    "\n",
    "        while i <len(L):\n",
    "            arr[k] = L[i]\n",
    "            i+=1\n",
    "            k+=1\n",
    "        \n",
    "        while j < len(R):\n",
    "            arr[k] = R[j]\n",
    "            j+=1\n",
    "            k+=1\n",
    "\n",
    "arr = [12,11,13,5,7,6]\n",
    "merge(arr)\n",
    "print(arr)"
   ]
  }
 ],
 "metadata": {
  "kernelspec": {
   "display_name": "base",
   "language": "python",
   "name": "python3"
  },
  "language_info": {
   "codemirror_mode": {
    "name": "ipython",
    "version": 3
   },
   "file_extension": ".py",
   "mimetype": "text/x-python",
   "name": "python",
   "nbconvert_exporter": "python",
   "pygments_lexer": "ipython3",
   "version": "3.9.12"
  }
 },
 "nbformat": 4,
 "nbformat_minor": 2
}
