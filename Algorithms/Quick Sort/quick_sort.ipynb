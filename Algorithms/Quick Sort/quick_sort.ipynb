{
 "cells": [
  {
   "cell_type": "markdown",
   "metadata": {},
   "source": [
    "## Quick Sort Algorithm\n",
    "\n",
    "It is based on divide and conquer technique."
   ]
  },
  {
   "cell_type": "code",
   "execution_count": 11,
   "metadata": {},
   "outputs": [
    {
     "name": "stdout",
     "output_type": "stream",
     "text": [
      "[2, 7, 9, 11, 15, 28, 29]\n"
     ]
    }
   ],
   "source": [
    "def swap(a,b,arr):\n",
    "    if a!=b:\n",
    "        arr[a],arr[b] = arr[b],arr[a]\n",
    "\n",
    "\n",
    "def partition(arr,start,end):\n",
    "    piv_index = start\n",
    "    pivot = arr[piv_index]\n",
    "\n",
    "    while start<end:\n",
    "        while start< len(arr) and arr[start] <= pivot:\n",
    "            start +=1\n",
    "        while arr[end]>pivot:\n",
    "            end -=1\n",
    "        if start < end:\n",
    "            swap(start,end,arr)\n",
    "    swap(piv_index,end,arr)\n",
    "    return end\n",
    "\n",
    "\n",
    "\n",
    "def quick_sort(arr,start,end):\n",
    "    if start < end:\n",
    "        pi = partition(arr,start,end)\n",
    "        quick_sort(arr,start,pi-1)\n",
    "        quick_sort(arr,pi+1,end)\n",
    "\n",
    "if __name__ == '__main__':\n",
    "    arr = [11,9,29,7,2,15,28]\n",
    "    l = len(arr)-1\n",
    "    quick_sort(arr,0,l)\n",
    "    print(arr)"
   ]
  }
 ],
 "metadata": {
  "kernelspec": {
   "display_name": "base",
   "language": "python",
   "name": "python3"
  },
  "language_info": {
   "codemirror_mode": {
    "name": "ipython",
    "version": 3
   },
   "file_extension": ".py",
   "mimetype": "text/x-python",
   "name": "python",
   "nbconvert_exporter": "python",
   "pygments_lexer": "ipython3",
   "version": "3.9.12"
  }
 },
 "nbformat": 4,
 "nbformat_minor": 2
}
