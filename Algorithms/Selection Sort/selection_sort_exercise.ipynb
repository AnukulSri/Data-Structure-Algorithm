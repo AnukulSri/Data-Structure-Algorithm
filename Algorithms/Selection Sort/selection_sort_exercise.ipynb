{
 "cells": [
  {
   "cell_type": "markdown",
   "metadata": {},
   "source": [
    "Implement a Multi-Level Sort of a given list of dictionaries based on a given sorting order. If user wants to sort dictionary based on First Key 'A', Then Key 'B', they shall pass list of keys in the order of preference as a list ['A','B']. Your code should be able to sort list of dictionaries for any number of keys in sorting order list.\n",
    "\n",
    "Using this multi-level sort, you should be able to sort any list of dictionaries based on sorting order preference\n",
    "\n",
    "Example: A single dictionary entry contains two keys 'First Name' and 'Last Name'. the list should be sorted first based on 'First Name', then based on 'Last Name', w.r.t. common/same 'First Name' entries.\n",
    "\n",
    "for this, one shall past sorting order of preference list [ 'First Name' , 'Last Name' ]\n",
    "\n",
    "For this, Given the following sequence List:"
   ]
  },
  {
   "cell_type": "markdown",
   "metadata": {},
   "source": [
    "## given dictionary\n",
    "    [\n",
    "        {'First Name': 'Raj', 'Last Name': 'Nayyar'},\n",
    "        {'First Name': 'Suraj', 'Last Name': 'Sharma'},\n",
    "        {'First Name': 'Karan', 'Last Name': 'Kumar'},\n",
    "        {'First Name': 'Jade', 'Last Name': 'Canary'},\n",
    "        {'First Name': 'Raj', 'Last Name': 'Thakur'},\n",
    "        {'First Name': 'Raj', 'Last Name': 'Sharma'},\n",
    "        {'First Name': 'Kiran', 'Last Name': 'Kamla'},\n",
    "        {'First Name': 'Armaan', 'Last Name': 'Kumar'},\n",
    "        {'First Name': 'Jaya', 'Last Name': 'Sharma'},\n",
    "        {'First Name': 'Ingrid', 'Last Name': 'Galore'},\n",
    "        {'First Name': 'Jaya', 'Last Name': 'Seth'},\n",
    "        {'First Name': 'Armaan', 'Last Name': 'Dadra'},\n",
    "        {'First Name': 'Ingrid', 'Last Name': 'Maverick'},\n",
    "        {'First Name': 'Aahana', 'Last Name': 'Arora'}\n",
    "    ]"
   ]
  },
  {
   "cell_type": "markdown",
   "metadata": {},
   "source": [
    "## Output:\n",
    "\n",
    "    [\n",
    "        {'First Name': 'Aahana', 'Last Name': 'Arora'}\n",
    "        {'First Name': 'Armaan', 'Last Name': 'Dadra'}\n",
    "        {'First Name': 'Armaan', 'Last Name': 'Kumar'}\n",
    "        {'First Name': 'Ingrid', 'Last Name': 'Galore'}\n",
    "        {'First Name': 'Ingrid', 'Last Name': 'Maverick'}\n",
    "        {'First Name': 'Jade', 'Last Name': 'Canary'}\n",
    "        {'First Name': 'Jaya', 'Last Name': 'Seth'}\n",
    "        {'First Name': 'Jaya', 'Last Name': 'Sharma'}\n",
    "        {'First Name': 'Karan', 'Last Name': 'Kumar'}\n",
    "        {'First Name': 'Kiran', 'Last Name': 'Kamla'}\n",
    "        {'First Name': 'Raj', 'Last Name': 'Nayyar'}\n",
    "        {'First Name': 'Raj', 'Last Name': 'Sharma'}\n",
    "        {'First Name': 'Raj', 'Last Name': 'Thakur'}\n",
    "        {'First Name': 'Suraj', 'Last Name': 'Sharma'}\n",
    "    ]"
   ]
  },
  {
   "cell_type": "code",
   "execution_count": 15,
   "metadata": {},
   "outputs": [
    {
     "name": "stdout",
     "output_type": "stream",
     "text": [
      "{'First Name': 'Aahana', 'Last Name': 'Arora'}\n",
      "{'First Name': 'Armaan', 'Last Name': 'Dadra'}\n",
      "{'First Name': 'Armaan', 'Last Name': 'Kumar'}\n",
      "{'First Name': 'Ingrid', 'Last Name': 'Galore'}\n",
      "{'First Name': 'Ingrid', 'Last Name': 'Maverick'}\n",
      "{'First Name': 'Jade', 'Last Name': 'Canary'}\n",
      "{'First Name': 'Jaya', 'Last Name': 'Seth'}\n",
      "{'First Name': 'Jaya', 'Last Name': 'Sharma'}\n",
      "{'First Name': 'Karan', 'Last Name': 'Kumar'}\n",
      "{'First Name': 'Kiran', 'Last Name': 'Kamla'}\n",
      "{'First Name': 'Raj', 'Last Name': 'Nayyar'}\n",
      "{'First Name': 'Raj', 'Last Name': 'Sharma'}\n",
      "{'First Name': 'Raj', 'Last Name': 'Thakur'}\n",
      "{'First Name': 'Suraj', 'Last Name': 'Sharma'}\n"
     ]
    }
   ],
   "source": [
    "def sorting(arr):\n",
    "    for i in range(len(arr)):\n",
    "        for j in range(i+1,len(arr)):\n",
    "            temp =\"\"\n",
    "            if arr[j]['First Name'] < arr[i]['First Name']:\n",
    "                temp = arr[i]\n",
    "                arr[i] = arr[j]\n",
    "                arr[j] = temp\n",
    "            elif arr[j]['First Name'] == arr[i]['First Name']:\n",
    "                if arr[j]['Last Name'] < arr[i]['Last Name']:\n",
    "                    temp = arr[i]\n",
    "                    arr[i] = arr[j]\n",
    "                    arr[j] = temp\n",
    "            # print(arr)\n",
    "    return arr\n",
    "\n",
    "arr = [\n",
    "    {'First Name': 'Raj', 'Last Name': 'Nayyar'},\n",
    "    {'First Name': 'Suraj', 'Last Name': 'Sharma'},\n",
    "    {'First Name': 'Karan', 'Last Name': 'Kumar'},\n",
    "    {'First Name': 'Jade', 'Last Name': 'Canary'},\n",
    "    {'First Name': 'Raj', 'Last Name': 'Thakur'},\n",
    "    {'First Name': 'Raj', 'Last Name': 'Sharma'},\n",
    "    {'First Name': 'Kiran', 'Last Name': 'Kamla'},\n",
    "    {'First Name': 'Armaan', 'Last Name': 'Kumar'},\n",
    "    {'First Name': 'Jaya', 'Last Name': 'Sharma'},\n",
    "    {'First Name': 'Ingrid', 'Last Name': 'Galore'},\n",
    "    {'First Name': 'Jaya', 'Last Name': 'Seth'},\n",
    "    {'First Name': 'Armaan', 'Last Name': 'Dadra'},\n",
    "    {'First Name': 'Ingrid', 'Last Name': 'Maverick'},\n",
    "    {'First Name': 'Aahana', 'Last Name': 'Arora'}\n",
    "]\n",
    "res = sorting(arr)\n",
    "for i in res:\n",
    "   print(i)\n"
   ]
  },
  {
   "cell_type": "markdown",
   "metadata": {},
   "source": [
    "# Therefore, the time complexity of this sorting algorithm is O(n^2), and space complexity of O(1).\n"
   ]
  }
 ],
 "metadata": {
  "kernelspec": {
   "display_name": "base",
   "language": "python",
   "name": "python3"
  },
  "language_info": {
   "codemirror_mode": {
    "name": "ipython",
    "version": 3
   },
   "file_extension": ".py",
   "mimetype": "text/x-python",
   "name": "python",
   "nbconvert_exporter": "python",
   "pygments_lexer": "ipython3",
   "version": "3.9.12"
  }
 },
 "nbformat": 4,
 "nbformat_minor": 2
}
