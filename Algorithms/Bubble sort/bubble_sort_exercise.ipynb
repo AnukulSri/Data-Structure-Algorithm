{
 "cells": [
  {
   "cell_type": "markdown",
   "metadata": {},
   "source": [
    "## Bubble Sort Exercise\n",
    "Modify bubble_sort function such that it can sort following list of transactions happening in an electronic store,"
   ]
  },
  {
   "cell_type": "markdown",
   "metadata": {},
   "source": [
    "    elements = [\n",
    "            { 'name': 'mona',   'transaction_amount': 1000, 'device': 'iphone-10'},\n",
    "            { 'name': 'dhaval', 'transaction_amount': 400,  'device': 'google pixel'},\n",
    "            { 'name': 'kathy',  'transaction_amount': 200,  'device': 'vivo'},\n",
    "            { 'name': 'aamir',  'transaction_amount': 800,  'device': 'iphone-8'},\n",
    "        ]\n",
    "Arrange above data according to user input keys. like name, transaction_amount etc"
   ]
  },
  {
   "cell_type": "code",
   "execution_count": 8,
   "metadata": {},
   "outputs": [
    {
     "name": "stdout",
     "output_type": "stream",
     "text": [
      "name, transaction_amount, device\n",
      "{'name': 'aamir', 'transaction_amount': 800, 'device': 'iphone-8'}\n",
      "{'name': 'dhaval', 'transaction_amount': 400, 'device': 'google pixel'}\n",
      "{'name': 'kathy', 'transaction_amount': 200, 'device': 'vivo'}\n",
      "{'name': 'mona', 'transaction_amount': 1000, 'device': 'iphone-10'}\n"
     ]
    }
   ],
   "source": [
    "elements = [\n",
    "        { 'name': 'mona',   'transaction_amount': 1000, 'device': 'iphone-10'},\n",
    "        { 'name': 'dhaval', 'transaction_amount': 400,  'device': 'google pixel'},\n",
    "        { 'name': 'kathy',  'transaction_amount': 200,  'device': 'vivo'},\n",
    "        { 'name': 'aamir',  'transaction_amount': 800,  'device': 'iphone-8'},\n",
    "    ]\n",
    "k = [\"name\", \"transaction_amount\", \"device\"]\n",
    "print(\"name, transaction_amount, device\")\n",
    "key = input(\"Enter key value from above specified range\")\n",
    "l = len(elements)\n",
    "if key not in k:\n",
    "    print(\"enter correct key\")\n",
    "else:\n",
    "    for i in range(l):\n",
    "        for j in range(i+1,l):\n",
    "            if elements[j][key] < elements[i][key]:\n",
    "                tmp = elements[j]\n",
    "                elements[j] = elements[i]\n",
    "                elements[i] = tmp\n",
    "\n",
    "    for i in range(l):\n",
    "        print(elements[i])"
   ]
  }
 ],
 "metadata": {
  "kernelspec": {
   "display_name": "base",
   "language": "python",
   "name": "python3"
  },
  "language_info": {
   "codemirror_mode": {
    "name": "ipython",
    "version": 3
   },
   "file_extension": ".py",
   "mimetype": "text/x-python",
   "name": "python",
   "nbconvert_exporter": "python",
   "pygments_lexer": "ipython3",
   "version": "3.9.12"
  }
 },
 "nbformat": 4,
 "nbformat_minor": 2
}
