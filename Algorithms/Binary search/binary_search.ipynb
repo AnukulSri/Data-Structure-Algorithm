{
 "cells": [
  {
   "cell_type": "markdown",
   "metadata": {},
   "source": [
    "## Binary Search Algorithm\n",
    "\n",
    "- It is mandatory that which searching element using binary search algorithm the array should be sorted."
   ]
  },
  {
   "cell_type": "code",
   "execution_count": 31,
   "metadata": {},
   "outputs": [
    {
     "name": "stdout",
     "output_type": "stream",
     "text": [
      "[5, 6, 7, 11, 12, 13]\n",
      "Number found in a list at index 2\n"
     ]
    }
   ],
   "source": [
    "# sorting list using insertion sort\n",
    "def sort(arr):\n",
    "    for i in range(1,len(arr)):\n",
    "        k = arr[i]\n",
    "        j = i-1\n",
    "\n",
    "        while j>=0 and k<arr[j]:\n",
    "            arr[j+1] = arr[j]\n",
    "            j -=1\n",
    "        arr[j+1] = k\n",
    "# print(arr)\n",
    "\n",
    "# binary search algorithm\n",
    "def binary_search(arr,key):\n",
    "    sort(arr)\n",
    "    print(arr)\n",
    "    l = len(arr)\n",
    "    lw= 0\n",
    "    up= l-1\n",
    "    mid = (lw+up)//2\n",
    "\n",
    "    while lw<up :\n",
    "\n",
    "        if arr[mid] == key:\n",
    "            print(f\"Number found in a list at index {mid}\")\n",
    "            \n",
    "            break\n",
    "        elif key < arr[mid]:\n",
    "            up = mid-1\n",
    "        else :\n",
    "            lw = mid+1  \n",
    "        mid = (lw+up)//2\n",
    "\n",
    " \n",
    "\n",
    "arr = [12,11,13,6,5,7]\n",
    "key = int(input(\"Enter a number to be searched\"))\n",
    "binary_search(arr,key)\n"
   ]
  }
 ],
 "metadata": {
  "kernelspec": {
   "display_name": "base",
   "language": "python",
   "name": "python3"
  },
  "language_info": {
   "codemirror_mode": {
    "name": "ipython",
    "version": 3
   },
   "file_extension": ".py",
   "mimetype": "text/x-python",
   "name": "python",
   "nbconvert_exporter": "python",
   "pygments_lexer": "ipython3",
   "version": "3.9.12"
  }
 },
 "nbformat": 4,
 "nbformat_minor": 2
}
