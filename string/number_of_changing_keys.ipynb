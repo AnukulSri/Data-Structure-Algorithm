{
 "cells": [
  {
   "cell_type": "markdown",
   "metadata": {},
   "source": [
    "## number of changing keys\n",
    "\n",
    "    You are given a 0-indexed string s typed by a user. Changing a key is defined as using a key different from the last used key. For example, s = \"ab\" has a change of a key while s = \"bBBb\" does not have any.\n",
    "\n",
    "    Example 1:\n",
    "\n",
    "    Input: s = \"aAbBcC\"\n",
    "    Output: 2\n",
    "    Explanation: \n",
    "    From s[0] = 'a' to s[1] = 'A', there is no change of key as caps lock or shift is not counted.\n",
    "    From s[1] = 'A' to s[2] = 'b', there is a change of key.\n",
    "    From s[2] = 'b' to s[3] = 'B', there is no change of key as caps lock or shift is not counted.\n",
    "    From s[3] = 'B' to s[4] = 'c', there is a change of key.\n",
    "    From s[4] = 'c' to s[5] = 'C', there is no change of key as caps lock or shift is not counted.\n",
    "\n",
    "    Example 2:\n",
    "\n",
    "    Input: s = \"AaAaAaaA\"\n",
    "    Output: 0\n",
    "    Explanation: There is no change of key since only the letters 'a' and 'A' are pressed which does not require change of key.\n",
    " "
   ]
  },
  {
   "cell_type": "code",
   "execution_count": 6,
   "metadata": {},
   "outputs": [
    {
     "name": "stdout",
     "output_type": "stream",
     "text": [
      "0\n"
     ]
    }
   ],
   "source": [
    "class solution():\n",
    "    def number_of_keys_change(self,s:str)-> int:\n",
    "        s = s.upper()\n",
    "        c=0\n",
    "        for i in range(len(s)-1):\n",
    "            if s[i] != s[i+1]:\n",
    "                c+=1\n",
    "        return c\n",
    "    \n",
    "\n",
    "if __name__ == '__main__':\n",
    "\n",
    "    # s = \"aAbBcC\"\n",
    "    s= \"AaAaAaaA\"\n",
    "    obj = solution()\n",
    "    print(obj.number_of_keys_change(s))\n"
   ]
  }
 ],
 "metadata": {
  "kernelspec": {
   "display_name": "base",
   "language": "python",
   "name": "python3"
  },
  "language_info": {
   "codemirror_mode": {
    "name": "ipython",
    "version": 3
   },
   "file_extension": ".py",
   "mimetype": "text/x-python",
   "name": "python",
   "nbconvert_exporter": "python",
   "pygments_lexer": "ipython3",
   "version": "3.9.12"
  }
 },
 "nbformat": 4,
 "nbformat_minor": 2
}
