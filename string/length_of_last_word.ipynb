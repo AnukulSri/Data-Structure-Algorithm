{
 "cells": [
  {
   "cell_type": "markdown",
   "metadata": {},
   "source": [
    "## Length of last word\n",
    "\n",
    "    G iven a string s consisting of words and spaces, return the length of the last word in the string.\n",
    "\n",
    "    A word is a maximal substring consisting of non-space characters only.\n",
    "\n",
    "    \n",
    "\n",
    "    Example 1:\n",
    "\n",
    "    Input: s = \"Hello World\"\n",
    "    Output: 5\n",
    "    Explanation: The last word is \"World\" with length 5.\n",
    "    Example 2:\n",
    "\n",
    "    Input: s = \"   fly me   to   the moon  \"\n",
    "    Output: 4\n",
    "    Explanation: The last word is \"moon\" with length 4.\n",
    "    Example 3:\n",
    "\n",
    "    Input: s = \"luffy is still joyboy\"\n",
    "    Output: 6\n",
    "    Explanation: The last word is \"joyboy\" with length 6.\n",
    " "
   ]
  },
  {
   "cell_type": "code",
   "execution_count": 1,
   "metadata": {},
   "outputs": [
    {
     "name": "stdout",
     "output_type": "stream",
     "text": [
      "5\n"
     ]
    }
   ],
   "source": [
    "class solution:\n",
    "    def len_of_last_word(self,s:str) -> int:\n",
    "        s = s.split()\n",
    "        i = 0\n",
    "        p = -1\n",
    "        while i>=0:\n",
    "            if s[p].isalpha():\n",
    "                i = -1\n",
    "                return (len(s[p]))\n",
    "            else:\n",
    "                p += -1\n",
    "                i +=1\n",
    "\n",
    "        \n",
    "\n",
    "if __name__  == '__main__':\n",
    "    s= input()\n",
    "    obj = solution()\n",
    "    print(obj.len_of_last_word(s))         "
   ]
  },
  {
   "cell_type": "code",
   "execution_count": 34,
   "metadata": {},
   "outputs": [
    {
     "name": "stdout",
     "output_type": "stream",
     "text": [
      "['', '', '', 'fly', 'me', '', '', 'to', '', '', 'the', 'moon', '', '']\n",
      "4\n"
     ]
    }
   ],
   "source": [
    "s = \"   fly me   to   the moon  \"\n",
    "# s = \"Hello World\"\n",
    "s = s.split(' ')\n",
    "print(s)\n",
    "# print(len(s[-3]))\n",
    "i=0\n",
    "p = -1\n",
    "while i>=0:\n",
    "    # print(i)\n",
    "    if s[p].isalpha():\n",
    "        print(len(s[p]))\n",
    "        i = -1\n",
    "    else:\n",
    "        p += -1\n",
    "        i +=1\n"
   ]
  }
 ],
 "metadata": {
  "kernelspec": {
   "display_name": "base",
   "language": "python",
   "name": "python3"
  },
  "language_info": {
   "codemirror_mode": {
    "name": "ipython",
    "version": 3
   },
   "file_extension": ".py",
   "mimetype": "text/x-python",
   "name": "python",
   "nbconvert_exporter": "python",
   "pygments_lexer": "ipython3",
   "version": "3.9.12"
  }
 },
 "nbformat": 4,
 "nbformat_minor": 2
}
