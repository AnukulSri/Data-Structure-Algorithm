{
 "cells": [
  {
   "cell_type": "markdown",
   "metadata": {},
   "source": [
    "## to lower case\n",
    "\n",
    "    Given a string s, return the string after replacing every uppercase letter with the same lowercase letter.\n",
    "\n",
    "    \n",
    "\n",
    "    Example 1:\n",
    "\n",
    "    Input: s = \"Hello\"\n",
    "    Output: \"hello\"\n",
    "    Example 2:\n",
    "\n",
    "    Input: s = \"here\"\n",
    "    Output: \"here\"\n",
    "    Example 3:\n",
    "\n",
    "    Input: s = \"LOVELY\"\n",
    "    Output: \"lovely\""
   ]
  },
  {
   "cell_type": "code",
   "execution_count": 1,
   "metadata": {},
   "outputs": [
    {
     "name": "stdout",
     "output_type": "stream",
     "text": [
      "hello\n"
     ]
    }
   ],
   "source": [
    "class solution():\n",
    "    def to_lower(self,s:str)-> str:\n",
    "        return s.lower()\n",
    "\n",
    "if __name__ == \"__main__\":\n",
    "    s= \"HeLlo\"\n",
    "    obj = solution()\n",
    "    print(obj.to_lower(s))"
   ]
  }
 ],
 "metadata": {
  "kernelspec": {
   "display_name": "base",
   "language": "python",
   "name": "python3"
  },
  "language_info": {
   "codemirror_mode": {
    "name": "ipython",
    "version": 3
   },
   "file_extension": ".py",
   "mimetype": "text/x-python",
   "name": "python",
   "nbconvert_exporter": "python",
   "pygments_lexer": "ipython3",
   "version": "3.9.12"
  }
 },
 "nbformat": 4,
 "nbformat_minor": 2
}
