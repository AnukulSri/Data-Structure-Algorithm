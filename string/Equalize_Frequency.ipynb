{
 "cells": [
  {
   "cell_type": "markdown",
   "metadata": {},
   "source": [
    "## Remove Letter To Equalize Frequency\n",
    "\n",
    "    You are given a 0-indexed string word, consisting of lowercase English letters. You need to select one index and remove the letter at that index from word so that the frequency of every letter present in word is equal.\n",
    "\n",
    "    Return true if it is possible to remove one letter so that the frequency of all letters in word are equal, and false otherwise.\n",
    "\n",
    "    Note:\n",
    "\n",
    "    The frequency of a letter x is the number of times it occurs in the string.\n",
    "    You must remove exactly one letter and cannot choose to do nothing.\n",
    "    \n",
    "\n",
    "    Example 1:\n",
    "\n",
    "    Input: word = \"abcc\"\n",
    "    Output: true\n",
    "    Explanation: Select index 3 and delete it: word becomes \"abc\" and each character has a frequency of 1.\n",
    "    Example 2:\n",
    "\n",
    "    Input: word = \"aazz\"\n",
    "    Output: false\n",
    "    Explanation: We must delete a character, so either the frequency of \"a\" is 1 and the frequency of \"z\" is 2, or vice versa. It is impossible to make all present letters have equal frequency."
   ]
  },
  {
   "cell_type": "code",
   "execution_count": 1,
   "metadata": {},
   "outputs": [
    {
     "name": "stdout",
     "output_type": "stream",
     "text": [
      "[1, 1, 2, 2]\n",
      "[0, 1, 2, 2]\n",
      "2\n",
      "2\n",
      "False\n"
     ]
    }
   ],
   "source": [
    "from collections import Counter\n",
    "\n",
    "class solution():\n",
    "    def equalize_frequency(self,word:str)->bool:\n",
    "        freq = sorted(Counter(word).values())  \n",
    "        print(freq)\n",
    "\n",
    "        freq[0] -= 1 \n",
    "        print(freq)\n",
    "        print(len(set(filter(None, freq))))\n",
    "        if len(set(filter(None, freq))) == 1:  \n",
    "                return True\n",
    "\n",
    "        freq[0] += 1 \n",
    "        freq[-1] -= 1  \n",
    "        print(len(set(filter(None, freq))))\n",
    "        return len(set(filter(None, freq))) == 1  \n",
    "        \n",
    "if __name__ == \"__main__\":\n",
    "\n",
    "    word=\"aabczz\"\n",
    "    obj =solution()\n",
    "    print(obj.equalize_frequency(word))"
   ]
  },
  {
   "cell_type": "markdown",
   "metadata": {},
   "source": [
    "Counter({'c': 2, 'a': 1, 'b': 1})\n",
    "c\n",
    "1"
   ]
  },
  {
   "cell_type": "code",
   "execution_count": 32,
   "metadata": {},
   "outputs": [
    {
     "name": "stdout",
     "output_type": "stream",
     "text": [
      "True\n"
     ]
    }
   ],
   "source": [
    "from collections import Counter\n",
    "\n",
    "word = \"bac\"\n",
    "countt = Counter(word)\n",
    "countt = dict(countt)\n",
    "\n",
    "maxi = max(countt.values())\n",
    "c=0\n",
    "l = len(countt)\n",
    "for i in countt:\n",
    "    if countt[i] == maxi:\n",
    "        c+=1\n",
    "if c==l:\n",
    "    print(True)\n",
    "else: \n",
    "    val = max(countt.values())\n",
    "    p= list(countt.keys())[list(countt.values()).index(val)]\n",
    "    val = max(countt.values())-1\n",
    "\n",
    "\n",
    "    d1 = {p:val}\n",
    "    countt.update(d1)\n",
    "\n",
    "    maxi = max(countt.values())\n",
    "    c=0\n",
    "    for i in countt:\n",
    "        if countt[i] != maxi:\n",
    "            c=1\n",
    "\n",
    "    if c == 1:\n",
    "        print(False)\n",
    "    else:\n",
    "        print(True)\n",
    "\n"
   ]
  },
  {
   "cell_type": "code",
   "execution_count": 31,
   "metadata": {},
   "outputs": [
    {
     "ename": "AttributeError",
     "evalue": "'dict_values' object has no attribute 'unique'",
     "output_type": "error",
     "traceback": [
      "\u001b[1;31m---------------------------------------------------------------------------\u001b[0m",
      "\u001b[1;31mAttributeError\u001b[0m                            Traceback (most recent call last)",
      "Cell \u001b[1;32mIn [31], line 1\u001b[0m\n\u001b[1;32m----> 1\u001b[0m \u001b[43mcountt\u001b[49m\u001b[38;5;241;43m.\u001b[39;49m\u001b[43mvalues\u001b[49m\u001b[43m(\u001b[49m\u001b[43m)\u001b[49m\u001b[38;5;241;43m.\u001b[39;49m\u001b[43munique\u001b[49m()\n",
      "\u001b[1;31mAttributeError\u001b[0m: 'dict_values' object has no attribute 'unique'"
     ]
    }
   ],
   "source": [
    "countt.values()"
   ]
  }
 ],
 "metadata": {
  "kernelspec": {
   "display_name": "base",
   "language": "python",
   "name": "python3"
  },
  "language_info": {
   "codemirror_mode": {
    "name": "ipython",
    "version": 3
   },
   "file_extension": ".py",
   "mimetype": "text/x-python",
   "name": "python",
   "nbconvert_exporter": "python",
   "pygments_lexer": "ipython3",
   "version": "3.9.12"
  }
 },
 "nbformat": 4,
 "nbformat_minor": 2
}
