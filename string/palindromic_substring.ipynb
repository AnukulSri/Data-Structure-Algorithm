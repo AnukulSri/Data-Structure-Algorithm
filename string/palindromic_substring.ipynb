{
 "cells": [
  {
   "cell_type": "markdown",
   "metadata": {},
   "source": [
    "## Longest Palindromic substring\n",
    "\n",
    "    Given a string s, return the longest \n",
    "    palindromic\n",
    "    \n",
    "    substring\n",
    "    in s.\n",
    "\n",
    "    \n",
    "\n",
    "    Example 1:\n",
    "\n",
    "    Input: s = \"babad\"\n",
    "    Output: \"bab\"\n",
    "    Explanation: \"aba\" is also a valid answer.\n",
    "    Example 2:\n",
    "\n",
    "    Input: s = \"cbbd\"\n",
    "    Output: \"bb\""
   ]
  },
  {
   "cell_type": "code",
   "execution_count": 25,
   "metadata": {},
   "outputs": [
    {
     "name": "stdout",
     "output_type": "stream",
     "text": [
      "bab\n"
     ]
    }
   ],
   "source": [
    "class Solution:\n",
    "    def longestPalindrome(self, s: str) -> str:\n",
    "        l=\"\"\n",
    "        maxi=0\n",
    "        if s == s[::-1]:\n",
    "            l = s\n",
    "        else:\n",
    "            for i in range(len(s)):\n",
    "                r= s[i]\n",
    "                for j in range(i+1,len(s)):\n",
    "                    r += s[j]\n",
    "                    # print(r)\n",
    "                    if r == r[::-1] and len(r)>maxi:\n",
    "                        l = r\n",
    "                        maxi = len(r)\n",
    "                        # print(l)\n",
    "        \n",
    "        if l == \"\":\n",
    "            l= s[0]\n",
    "        \n",
    "        return l  \n",
    "\n",
    "if __name__ == \"__main__\":\n",
    "\n",
    "    s = 'babad'\n",
    "    obj = Solution()\n",
    "    print(obj.longestPalindrome(s))    \n",
    "                "
   ]
  },
  {
   "cell_type": "code",
   "execution_count": 20,
   "metadata": {},
   "outputs": [
    {
     "name": "stdout",
     "output_type": "stream",
     "text": [
      "bddb\n"
     ]
    }
   ],
   "source": [
    "s = 'bddb'\n",
    "print(s[::-1])"
   ]
  }
 ],
 "metadata": {
  "kernelspec": {
   "display_name": "base",
   "language": "python",
   "name": "python3"
  },
  "language_info": {
   "codemirror_mode": {
    "name": "ipython",
    "version": 3
   },
   "file_extension": ".py",
   "mimetype": "text/x-python",
   "name": "python",
   "nbconvert_exporter": "python",
   "pygments_lexer": "ipython3",
   "version": "3.9.12"
  }
 },
 "nbformat": 4,
 "nbformat_minor": 2
}
