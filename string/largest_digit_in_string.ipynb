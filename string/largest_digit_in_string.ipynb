{
 "cells": [
  {
   "cell_type": "markdown",
   "metadata": {},
   "source": [
    "## Second Largest Digit in a String"
   ]
  },
  {
   "cell_type": "code",
   "execution_count": 52,
   "metadata": {},
   "outputs": [
    {
     "name": "stdout",
     "output_type": "stream",
     "text": [
      "7\n"
     ]
    }
   ],
   "source": [
    "class Solution:\n",
    "    def secondHighest(self, s: str) -> int:\n",
    "        p = sorted(set(s))\n",
    "        l=[]\n",
    "        for i in p:\n",
    "            if i.isdigit():\n",
    "                l.append(int(i))\n",
    "        # print(l)\n",
    "        if len(l) <= 1:\n",
    "            return -1\n",
    "        else:\n",
    "            return l[1]\n",
    "\n",
    "if __name__ == \"__main__\":\n",
    "    s= \"cx077\"\n",
    "    obj = Solution()\n",
    "    print(obj.secondHighest(s))"
   ]
  },
  {
   "cell_type": "code",
   "execution_count": 55,
   "metadata": {},
   "outputs": [
    {
     "name": "stdout",
     "output_type": "stream",
     "text": [
      "['0', '7', '7']\n"
     ]
    },
    {
     "data": {
      "text/plain": [
       "0"
      ]
     },
     "execution_count": 55,
     "metadata": {},
     "output_type": "execute_result"
    }
   ],
   "source": [
    "def secondHighest(s: str):\n",
    "        fin = []\n",
    "        for i in s:\n",
    "            if i.isdigit() == True:\n",
    "                fin.append(i)\n",
    "        print(fin)\n",
    "        if len(set(fin)) == 1 or len(set(fin)) == 0:\n",
    "            return -1\n",
    "        else:\n",
    "            return int(sorted(set((fin)))[-2])\n",
    "secondHighest(\"cx077\")"
   ]
  }
 ],
 "metadata": {
  "kernelspec": {
   "display_name": "base",
   "language": "python",
   "name": "python3"
  },
  "language_info": {
   "codemirror_mode": {
    "name": "ipython",
    "version": 3
   },
   "file_extension": ".py",
   "mimetype": "text/x-python",
   "name": "python",
   "nbconvert_exporter": "python",
   "pygments_lexer": "ipython3",
   "version": "3.9.12"
  }
 },
 "nbformat": 4,
 "nbformat_minor": 2
}
