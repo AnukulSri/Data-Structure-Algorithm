{
 "cells": [
  {
   "cell_type": "markdown",
   "metadata": {},
   "source": [
    "## Ransome Note:\n",
    "\n",
    "    Given two strings ransomNote and magazine, return true if ransomNote can be constructed by using the letters from magazine and false otherwise.\n",
    "\n",
    "    Each letter in magazine can only be used once in ransomNote.\n",
    "\n",
    "    \n",
    "\n",
    "    Example 1:\n",
    "\n",
    "    Input: ransomNote = \"a\", magazine = \"b\"\n",
    "    Output: false\n",
    "    Example 2:\n",
    "\n",
    "    Input: ransomNote = \"aa\", magazine = \"ab\"\n",
    "    Output: false\n",
    "    Example 3:\n",
    "\n",
    "    Input: ransomNote = \"aa\", magazine = \"aab\"\n",
    "    Output: true"
   ]
  },
  {
   "cell_type": "code",
   "execution_count": 3,
   "metadata": {},
   "outputs": [
    {
     "name": "stdout",
     "output_type": "stream",
     "text": [
      "False\n"
     ]
    }
   ],
   "source": [
    "class solution():\n",
    "    def ransome_note(self,ransomNote:str,magazine:str)->bool:\n",
    "        ransomNote = list(ransomNote)\n",
    "        magazine = list(magazine)\n",
    "        ransomNote.sort()\n",
    "        magazine.sort()\n",
    "        c=0\n",
    "        for i in range(len(ransomNote)):\n",
    "            \n",
    "            if ransomNote[i] in magazine:   \n",
    "                magazine.remove(ransomNote[i])\n",
    "\n",
    "            else: \n",
    "                c+=1\n",
    "        if c == 0 :\n",
    "            return True\n",
    "        else:\n",
    "            return False\n",
    "\n",
    "if __name__ == \"__main__\":\n",
    "    \n",
    "    ransomNote = \"aa\"\n",
    "    magazine = \"ab\" \n",
    "    obj = solution()\n",
    "    print(obj.ransome_note(ransomNote,magazine))"
   ]
  }
 ],
 "metadata": {
  "kernelspec": {
   "display_name": "base",
   "language": "python",
   "name": "python3"
  },
  "language_info": {
   "codemirror_mode": {
    "name": "ipython",
    "version": 3
   },
   "file_extension": ".py",
   "mimetype": "text/x-python",
   "name": "python",
   "nbconvert_exporter": "python",
   "pygments_lexer": "ipython3",
   "version": "3.9.12"
  }
 },
 "nbformat": 4,
 "nbformat_minor": 2
}
