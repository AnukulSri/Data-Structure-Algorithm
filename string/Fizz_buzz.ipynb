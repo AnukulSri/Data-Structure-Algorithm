{
 "cells": [
  {
   "cell_type": "markdown",
   "metadata": {},
   "source": [
    "## Fizz Buzz\n",
    "\n",
    "    Given an integer n, return a string array answer (1-indexed) where:\n",
    "\n",
    "    answer[i] == \"FizzBuzz\" if i is divisible by 3 and 5.\n",
    "    answer[i] == \"Fizz\" if i is divisible by 3.\n",
    "    answer[i] == \"Buzz\" if i is divisible by 5.\n",
    "    answer[i] == i (as a string) if none of the above conditions are true.\n",
    "    \n",
    "\n",
    "    Example 1:\n",
    "\n",
    "    Input: n = 3\n",
    "    Output: [\"1\",\"2\",\"Fizz\"]\n",
    "    Example 2:\n",
    "\n",
    "    Input: n = 5\n",
    "    Output: [\"1\",\"2\",\"Fizz\",\"4\",\"Buzz\"]\n",
    "    Example 3:\n",
    "\n",
    "    Input: n = 15\n",
    "    Output: [\"1\",\"2\",\"Fizz\",\"4\",\"Buzz\",\"Fizz\",\"7\",\"8\",\"Fizz\",\"Buzz\",\"11\",\"Fizz\",\"13\",\"14\",\"FizzBuzz\"]"
   ]
  },
  {
   "cell_type": "code",
   "execution_count": 1,
   "metadata": {},
   "outputs": [
    {
     "name": "stdout",
     "output_type": "stream",
     "text": [
      "['1', '2', 'Fizz']\n"
     ]
    }
   ],
   "source": [
    "class solution():\n",
    "    def fizz_buz(self,n:int)-> list[str] :\n",
    "        l=[]\n",
    "        for i in range(1,n+1):\n",
    "            if i % 3 == 0 and i % 5 ==0:\n",
    "                l.append(\"FizzBuzz\")\n",
    "            elif i %3 == 0:\n",
    "                l.append(\"Fizz\")\n",
    "            elif i% 5 ==0:\n",
    "                l.append(\"Buzz\")\n",
    "            else:\n",
    "                l.append(str(i))\n",
    "        return l\n",
    "\n",
    "if __name__ == \"__main__\":\n",
    "\n",
    "    n = 3\n",
    "    obj = solution()\n",
    "    print(obj.fizz_buz(n))"
   ]
  }
 ],
 "metadata": {
  "kernelspec": {
   "display_name": "base",
   "language": "python",
   "name": "python3"
  },
  "language_info": {
   "codemirror_mode": {
    "name": "ipython",
    "version": 3
   },
   "file_extension": ".py",
   "mimetype": "text/x-python",
   "name": "python",
   "nbconvert_exporter": "python",
   "pygments_lexer": "ipython3",
   "version": "3.9.12"
  }
 },
 "nbformat": 4,
 "nbformat_minor": 2
}
