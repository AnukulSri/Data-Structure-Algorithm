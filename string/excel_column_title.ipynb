{
 "cells": [
  {
   "cell_type": "markdown",
   "metadata": {},
   "source": [
    "## Excel Sheet COlumn Title:\n",
    "\n",
    "    Given an integer columnNumber, return its corresponding column title as it appears in an Excel sheet.\n",
    "\n",
    "    For example:\n",
    "\n",
    "    A -> 1\n",
    "    B -> 2\n",
    "    C -> 3\n",
    "    ...\n",
    "    Z -> 26\n",
    "    AA -> 27\n",
    "    AB -> 28 \n",
    "    ...\n",
    "\n",
    "    Example 1:\n",
    "\n",
    "    Input: columnNumber = 1\n",
    "    Output: \"A\"\n",
    "    Example 2:\n",
    "\n",
    "    Input: columnNumber = 28\n",
    "    Output: \"AB\"\n",
    "    Example 3:\n",
    "\n",
    "    Input: columnNumber = 701\n",
    "    Output: \"ZY\""
   ]
  },
  {
   "cell_type": "code",
   "execution_count": null,
   "metadata": {},
   "outputs": [],
   "source": [
    "class Solution:\n",
    "    def convertToTitle(self, columnNumber: int) -> str:\n",
    "        "
   ]
  }
 ],
 "metadata": {
  "language_info": {
   "name": "python"
  }
 },
 "nbformat": 4,
 "nbformat_minor": 2
}
