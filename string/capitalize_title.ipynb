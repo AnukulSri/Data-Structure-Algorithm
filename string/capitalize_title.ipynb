{
 "cells": [
  {
   "cell_type": "markdown",
   "metadata": {},
   "source": [
    "## Capitalize the title\n",
    "\n",
    "- You are given a string title consisting of one or more words separated by a single space, where each word consists of English letters. Capitalize the string by changing the capitalization of each word such that:\n",
    "\n",
    "- If the length of the word is 1 or 2 letters, change all letters to lowercase.\n",
    "- Otherwise, change the first letter to uppercase and the remaining letters to lowercase.\n",
    "- Return the capitalized title.\n",
    "\n",
    "#### Example:\n",
    "\n",
    "    Example 1:\n",
    "\n",
    "    Input: title = \"capiTalIze tHe titLe\"\n",
    "    Output: \"Capitalize The Title\"\n",
    "    Explanation:\n",
    "    Since all the words have a length of at least 3, the first letter of each word is uppercase, and the remaining letters are lowercase.\n",
    "    Example 2:\n",
    "\n",
    "    Input: title = \"First leTTeR of EACH Word\"\n",
    "    Output: \"First Letter of Each Word\"\n",
    "    Explanation:\n",
    "    The word \"of\" has length 2, so it is all lowercase.\n",
    "    The remaining words have a length of at least 3, so the first letter of each remaining word is uppercase, and the remaining letters are lowercase.\n",
    "    Example 3:\n",
    "\n",
    "    Input: title = \"i lOve leetcode\"\n",
    "    Output: \"i Love Leetcode\"\n",
    "    Explanation:\n",
    "    The word \"i\" has length 1, so it is lowercase.\n",
    "    The remaining words have a length of at least 3, so the first letter of each remaining word is uppercase, and the remaining letters are lowercase."
   ]
  },
  {
   "cell_type": "code",
   "execution_count": 3,
   "metadata": {},
   "outputs": [
    {
     "name": "stdout",
     "output_type": "stream",
     "text": [
      "First Letter of Each Word\n"
     ]
    }
   ],
   "source": [
    "class solution():\n",
    "    def capitalize_title(self, title: str)-> str:\n",
    "        words = title.split()\n",
    "        c= \" \"\n",
    "        for i in range(len(words)):\n",
    "            if len(words[i])>2:\n",
    "                words[i] = words[i].capitalize()\n",
    "\n",
    "        return c.join(words)\n",
    "\n",
    "if __name__ == '__main__':\n",
    "\n",
    "    title = \"First leTTer of EACH Word\" \n",
    "    # title = \"i lOve leetcode\"\n",
    "    obj = solution()\n",
    "    print(obj.capitalize_title(title))"
   ]
  }
 ],
 "metadata": {
  "kernelspec": {
   "display_name": "base",
   "language": "python",
   "name": "python3"
  },
  "language_info": {
   "codemirror_mode": {
    "name": "ipython",
    "version": 3
   },
   "file_extension": ".py",
   "mimetype": "text/x-python",
   "name": "python",
   "nbconvert_exporter": "python",
   "pygments_lexer": "ipython3",
   "version": "3.9.12"
  }
 },
 "nbformat": 4,
 "nbformat_minor": 2
}
