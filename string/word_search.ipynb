{
 "cells": [
  {
   "cell_type": "code",
   "execution_count": 1,
   "metadata": {},
   "outputs": [],
   "source": [
    "board = [[\"A\",\"B\",\"C\",\"E\"],[\"S\",\"F\",\"C\",\"S\"],[\"A\",\"D\",\"E\",\"E\"]]\n",
    "word = \"ABCCED\""
   ]
  },
  {
   "cell_type": "code",
   "execution_count": 2,
   "metadata": {},
   "outputs": [
    {
     "name": "stdout",
     "output_type": "stream",
     "text": [
      "i A\n",
      "j ['A', 'B', 'C', 'E']\n",
      "i B\n",
      "j ['A', 'B', 'C', 'E']\n",
      "i C\n",
      "j ['A', 'B', 'C', 'E']\n",
      "i C\n",
      "j ['A', 'B', 'C', 'E']\n",
      "i E\n",
      "j ['A', 'B', 'C', 'E']\n",
      "i D\n",
      "j ['A', 'B', 'C', 'E']\n",
      "j ['S', 'F', 'C', 'S']\n",
      "j ['A', 'D', 'E', 'E']\n",
      "True\n"
     ]
    }
   ],
   "source": [
    "# board = [[\"A\",\"B\",\"C\",\"E\"],[\"S\",\"F\",\"C\",\"S\"],[\"A\",\"D\",\"E\",\"E\"]]\n",
    "# word = \"ABCCED\"\n",
    "c = 0\n",
    "for i in word:\n",
    "    # print(\"i\",i)\n",
    "    for j in board:\n",
    "        # print(\"j\",j)\n",
    "        if i in j:\n",
    "            c=0\n",
    "            break\n",
    "        else:\n",
    "            c=1\n",
    "if c==1:\n",
    "    print(\"Flase\")\n",
    "else:\n",
    "    print(\"True\")"
   ]
  }
 ],
 "metadata": {
  "kernelspec": {
   "display_name": "base",
   "language": "python",
   "name": "python3"
  },
  "language_info": {
   "codemirror_mode": {
    "name": "ipython",
    "version": 3
   },
   "file_extension": ".py",
   "mimetype": "text/x-python",
   "name": "python",
   "nbconvert_exporter": "python",
   "pygments_lexer": "ipython3",
   "version": "3.9.12"
  }
 },
 "nbformat": 4,
 "nbformat_minor": 2
}
