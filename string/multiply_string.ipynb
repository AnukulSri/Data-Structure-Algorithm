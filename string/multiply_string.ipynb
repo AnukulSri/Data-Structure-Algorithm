{
 "cells": [
  {
   "cell_type": "markdown",
   "metadata": {},
   "source": [
    "## Multiply String\n",
    "\n",
    "    Given two non-negative integers num1 and num2 represented as strings, return the product of num1 and num2, also represented as a string.\n",
    "\n",
    "    Note: You must not use any built-in BigInteger library or convert the inputs to integer directly.\n",
    "\n",
    "    \n",
    "\n",
    "    Example 1:\n",
    "\n",
    "    Input: num1 = \"2\", num2 = \"3\"\n",
    "    Output: \"6\"\n",
    "    Example 2:\n",
    "\n",
    "    Input: num1 = \"123\", num2 = \"456\"\n",
    "    Output: \"56088\""
   ]
  },
  {
   "cell_type": "code",
   "execution_count": 1,
   "metadata": {},
   "outputs": [
    {
     "name": "stdout",
     "output_type": "stream",
     "text": [
      "56088\n"
     ]
    }
   ],
   "source": [
    "num1 = \"123\"\n",
    "num2 = \"456\"\n",
    "n1,n2 = 0,0\n",
    "for i in num1:\n",
    "    n1 = n1*10 + (ord(i)-48)\n",
    "for i in num2:\n",
    "    n2 = n2*10 + (ord(i)-48)\n",
    "print(f\"{n1*n2}\")"
   ]
  }
 ],
 "metadata": {
  "kernelspec": {
   "display_name": "base",
   "language": "python",
   "name": "python3"
  },
  "language_info": {
   "codemirror_mode": {
    "name": "ipython",
    "version": 3
   },
   "file_extension": ".py",
   "mimetype": "text/x-python",
   "name": "python",
   "nbconvert_exporter": "python",
   "pygments_lexer": "ipython3",
   "version": "3.9.12"
  }
 },
 "nbformat": 4,
 "nbformat_minor": 2
}
