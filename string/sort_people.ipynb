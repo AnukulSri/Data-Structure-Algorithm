{
 "cells": [
  {
   "cell_type": "markdown",
   "metadata": {},
   "source": [
    "## Sort people\n",
    "\n",
    "    You are given an array of strings names, and an array heights that consists of distinct positive integers. Both arrays are of length n.\n",
    "\n",
    "    Example 1:\n",
    "\n",
    "    Input: names = [\"Mary\",\"John\",\"Emma\"], heights = [180,165,170]\n",
    "    Output: [\"Mary\",\"Emma\",\"John\"]\n",
    "    Explanation: Mary is the tallest, followed by Emma and John.\n",
    "    Example 2:\n",
    "\n",
    "    Input: names = [\"Alice\",\"Bob\",\"Bob\"], heights = [155,185,150]\n",
    "    Output: [\"Bob\",\"Alice\",\"Bob\"]\n",
    "    Explanation: The first Bob is the tallest, followed by Alice and the second Bob."
   ]
  },
  {
   "cell_type": "code",
   "execution_count": 48,
   "metadata": {},
   "outputs": [
    {
     "name": "stdout",
     "output_type": "stream",
     "text": [
      "['\"EPCFFt\"', '\"RPJOFYZUBFSIYp\"', '\"VOYGWWNCf\"', '\"Vk\"', '\"Sgizfdfrims\"', '\"IEO\"', '\"QTASHKQ\"', '\"WSpmqvb\"']\n"
     ]
    }
   ],
   "source": [
    "class solution():\n",
    "    def sort_people(self, names:list[str],heights:list[int])-> list[str]:\n",
    "        h1 = heights.copy()\n",
    "        h1.sort(reverse=True)\n",
    "        l=[]\n",
    "        for i in range(len(heights)):\n",
    "            h = h1[i]\n",
    "            j = heights.index(h)\n",
    "            l.append(names[j])\n",
    "        return l\n",
    "\n",
    "if __name__ == '__main__':\n",
    "    names = [\"IEO\",\"Sgizfdfrims\",\"QTASHKQ\",\"Vk\",\"RPJOFYZUBFSIYp\",\"EPCFFt\",\"VOYGWWNCf\",\"WSpmqvb\"]\n",
    "    heights = [17233,32521,14087,42738,46669,65662,43204,8224]\n",
    "    obj = solution()\n",
    "    print(obj.sort_people(names,heights))\n"
   ]
  }
 ],
 "metadata": {
  "kernelspec": {
   "display_name": "base",
   "language": "python",
   "name": "python3"
  },
  "language_info": {
   "codemirror_mode": {
    "name": "ipython",
    "version": 3
   },
   "file_extension": ".py",
   "mimetype": "text/x-python",
   "name": "python",
   "nbconvert_exporter": "python",
   "pygments_lexer": "ipython3",
   "version": "3.9.12"
  }
 },
 "nbformat": 4,
 "nbformat_minor": 2
}
