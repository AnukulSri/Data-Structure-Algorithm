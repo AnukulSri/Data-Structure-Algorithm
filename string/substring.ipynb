{
 "cells": [
  {
   "cell_type": "markdown",
   "metadata": {},
   "source": [
    "## Existence of a Substring in a String and Its Reverse\n",
    "\n",
    "Given a string s, find any substring of length 2 which is also present in the reverse of s.\n",
    "\n",
    "Return true if such a substring exists, and false otherwise.\n",
    "\n",
    " \n",
    "\n",
    "### Example 1:\n",
    "\n",
    "    Input: s = \"leetcode\"\n",
    "\n",
    "    Output: true\n",
    "\n",
    "    Explanation: Substring \"ee\" is of length 2 which is also present in reverse(s) == \"edocteel\".\n",
    "\n",
    "    Example 2:\n",
    "\n",
    "    Input: s = \"abcba\"\n",
    "\n",
    "    Output: true\n",
    "\n",
    "    Explanation: All of the substrings of length 2 \"ab\", \"bc\", \"cb\", \"ba\" are also present in reverse(s) == \"abcba\".\n",
    "\n",
    "    Example 3:\n",
    "\n",
    "    Input: s = \"abcd\"\n",
    "\n",
    "    Output: false\n",
    "\n",
    "    Explanation: There is no substring of length 2 in s, which is also present in the reverse of s."
   ]
  },
  {
   "cell_type": "code",
   "execution_count": 1,
   "metadata": {},
   "outputs": [
    {
     "name": "stdout",
     "output_type": "stream",
     "text": [
      "False\n"
     ]
    }
   ],
   "source": [
    "class Solution:\n",
    "    def isSubstringPresent(self, s: str) -> bool:\n",
    "        rev = s[::-1]\n",
    "        c=0\n",
    "        for i in range(len(s)-1):\n",
    "            for j in range(i+1,i+2):\n",
    "                p = s[i]+s[j]\n",
    "\n",
    "                if p in rev:\n",
    "                    c+=1\n",
    "        if c!=0:\n",
    "            return True\n",
    "        else:\n",
    "            return False\n",
    "        \n",
    "if __name__ == '__main__':\n",
    "    s = input()\n",
    "    p1 = Solution()\n",
    "    print(p1.isSubstringPresent(s))"
   ]
  }
 ],
 "metadata": {
  "kernelspec": {
   "display_name": "base",
   "language": "python",
   "name": "python3"
  },
  "language_info": {
   "codemirror_mode": {
    "name": "ipython",
    "version": 3
   },
   "file_extension": ".py",
   "mimetype": "text/x-python",
   "name": "python",
   "nbconvert_exporter": "python",
   "pygments_lexer": "ipython3",
   "version": "3.9.12"
  }
 },
 "nbformat": 4,
 "nbformat_minor": 2
}
