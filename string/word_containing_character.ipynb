{
 "cells": [
  {
   "cell_type": "markdown",
   "metadata": {},
   "source": [
    "## Find word containing character\n",
    "\n",
    "    You are given a 0-indexed array of strings words and a character x.\n",
    "    Return an array of indices representing the words that contain the character x.\n",
    "\n",
    "    Example 1:\n",
    "\n",
    "    Input: words = [\"leet\",\"code\"], x = \"e\"\n",
    "    Output: [0,1]\n",
    "    Explanation: \"e\" occurs in both words: \"leet\", and \"code\". Hence, we return indices 0 and 1.\n",
    "    Example 2:\n",
    "\n",
    "    Input: words = [\"abc\",\"bcd\",\"aaaa\",\"cbc\"], x = \"a\"\n",
    "    Output: [0,2]\n",
    "    Explanation: \"a\" occurs in \"abc\", and \"aaaa\". Hence, we return indices 0 and 2.\n",
    "    Example 3:\n",
    "\n",
    "    Input: words = [\"abc\",\"bcd\",\"aaaa\",\"cbc\"], x = \"z\"\n",
    "    Output: []\n",
    "    Explanation: \"z\" does not occur in any of the words. Hence, we return an empty array."
   ]
  },
  {
   "cell_type": "code",
   "execution_count": 1,
   "metadata": {},
   "outputs": [
    {
     "name": "stdout",
     "output_type": "stream",
     "text": [
      "[0]\n"
     ]
    }
   ],
   "source": [
    "class solution():\n",
    "    def word_containing_character(self, words:list[str], x:str) -> list[int]:\n",
    "        l=[]\n",
    "        for i in range(len(words)):\n",
    "            if x in words[i]:\n",
    "                l.append(i)\n",
    "        return l\n",
    "\n",
    "if __name__ == '__main__':\n",
    "    words = [\"Anukul\",\"Srivastava\"]\n",
    "    x = 'u'\n",
    "    obj = solution()\n",
    "    print(obj.word_containing_character(words,x))"
   ]
  }
 ],
 "metadata": {
  "kernelspec": {
   "display_name": "base",
   "language": "python",
   "name": "python3"
  },
  "language_info": {
   "codemirror_mode": {
    "name": "ipython",
    "version": 3
   },
   "file_extension": ".py",
   "mimetype": "text/x-python",
   "name": "python",
   "nbconvert_exporter": "python",
   "pygments_lexer": "ipython3",
   "version": "3.9.12"
  }
 },
 "nbformat": 4,
 "nbformat_minor": 2
}
