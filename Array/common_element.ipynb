{
 "cells": [
  {
   "cell_type": "markdown",
   "metadata": {},
   "source": [
    "## Find common elements in three sorted arrays\n",
    "\n",
    "    Input: \n",
    "    ar1[] = {1, 5, 10, 20, 40, 80} \n",
    "    ar2[] = {6, 7, 20, 80, 100} \n",
    "    ar3[] = {3, 4, 15, 20, 30, 70, 80, 120} \n",
    "    Output: 20, 80\n",
    "\n",
    "    Input: \n",
    "    ar1[] = {1, 5, 5} \n",
    "    ar2[] = {3, 4, 5, 5, 10} \n",
    "    ar3[] = {5, 5, 10, 20} \n",
    "    Output: 5, 5\n",
    "\n"
   ]
  },
  {
   "cell_type": "code",
   "execution_count": 1,
   "metadata": {},
   "outputs": [
    {
     "data": {
      "text/plain": [
       "{20, 80}"
      ]
     },
     "execution_count": 1,
     "metadata": {},
     "output_type": "execute_result"
    }
   ],
   "source": [
    "ar1= {1, 5, 10, 20, 40, 80} \n",
    "ar2 = {6, 7, 20, 80, 100} \n",
    "ar3= {3, 4, 15, 20, 30, 70, 80, 120} \n",
    "\n",
    "ar1.intersection(ar2 and ar3)"
   ]
  },
  {
   "cell_type": "code",
   "execution_count": 7,
   "metadata": {},
   "outputs": [
    {
     "name": "stdout",
     "output_type": "stream",
     "text": [
      "20 80 "
     ]
    }
   ],
   "source": [
    "ar1= [1, 5, 10, 20, 40, 80] \n",
    "ar2 = [6, 7, 20, 80, 100] \n",
    "ar3= [3, 4, 15, 20, 30, 70, 80, 120] \n",
    "\n",
    "for i in range(len(ar2)):\n",
    "    if ar2[i] in ar1 and ar3:\n",
    "        print(ar2[i], end=' ')"
   ]
  }
 ],
 "metadata": {
  "kernelspec": {
   "display_name": "base",
   "language": "python",
   "name": "python3"
  },
  "language_info": {
   "codemirror_mode": {
    "name": "ipython",
    "version": 3
   },
   "file_extension": ".py",
   "mimetype": "text/x-python",
   "name": "python",
   "nbconvert_exporter": "python",
   "pygments_lexer": "ipython3",
   "version": "3.9.12"
  }
 },
 "nbformat": 4,
 "nbformat_minor": 2
}
