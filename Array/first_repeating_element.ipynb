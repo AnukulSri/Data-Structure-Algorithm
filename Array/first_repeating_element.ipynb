{
 "cells": [
  {
   "cell_type": "markdown",
   "metadata": {},
   "source": [
    "## Find the first repeating element in an array of integers\n",
    "\n",
    "    Input: arr[] = {10, 5, 3, 4, 3, 5, 6}\n",
    "    Output: 5 \n",
    "    Explanation: 5 is the first element that repeats\n",
    "\n",
    "    Input: arr[] = {6, 10, 5, 4, 9, 120, 4, 6, 10}\n",
    "    Output: 6 \n",
    "    Explanation: 6 is the first element that repeats"
   ]
  },
  {
   "cell_type": "code",
   "execution_count": 3,
   "metadata": {},
   "outputs": [
    {
     "name": "stdout",
     "output_type": "stream",
     "text": [
      "5\n"
     ]
    }
   ],
   "source": [
    "def repeat(arr,l):\n",
    "    c=0\n",
    "    for i in range(l):\n",
    "        for j in range(i+1,l):\n",
    "            if arr[i] == arr[j]:\n",
    "                c += 1\n",
    "                print(arr[i])\n",
    "                break\n",
    "        if c == 1:\n",
    "         break\n",
    "        # print(\"value of i\")\n",
    "\n",
    "arr =[10,5,3,4,3,5,6]\n",
    "l = len(arr)\n",
    "repeat(arr,l)"
   ]
  }
 ],
 "metadata": {
  "kernelspec": {
   "display_name": "base",
   "language": "python",
   "name": "python3"
  },
  "language_info": {
   "codemirror_mode": {
    "name": "ipython",
    "version": 3
   },
   "file_extension": ".py",
   "mimetype": "text/x-python",
   "name": "python",
   "nbconvert_exporter": "python",
   "pygments_lexer": "ipython3",
   "version": "3.9.12"
  }
 },
 "nbformat": 4,
 "nbformat_minor": 2
}
