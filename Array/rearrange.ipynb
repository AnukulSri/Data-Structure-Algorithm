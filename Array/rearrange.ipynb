{
 "cells": [
  {
   "cell_type": "markdown",
   "metadata": {},
   "source": [
    "## Rearrange array in alternating positive & negative items\n",
    "\n",
    "    Input:  arr[] = {1, 2, 3, -4, -1, 4}\n",
    "    Output: arr[] = {-4, 1, -1, 2, 3, 4}\n",
    "\n",
    "    Input:  arr[] = {-5, -2, 5, 2, 4, 7, 1, 8, 0, -8}\n",
    "    Output: arr[] = {-5, 5, -2, 2, -8, 4, 7, 1, 8, 0}"
   ]
  },
  {
   "cell_type": "code",
   "execution_count": 18,
   "metadata": {},
   "outputs": [
    {
     "name": "stdout",
     "output_type": "stream",
     "text": [
      "[-5, 5, -2, 2, -8, 4, 7, 1, 8, 0]\n"
     ]
    }
   ],
   "source": [
    "def rearrange(arr): \n",
    "    a1 = []\n",
    "    a2 = []\n",
    "    for i in range(len(arr)):\n",
    "        if arr[i]>=0:\n",
    "            a2.append(arr[i])\n",
    "        else:\n",
    "            a1.append(arr[i])\n",
    "    \n",
    "    q=w=0\n",
    "    for i in range(len(arr)):\n",
    "        if i%2 == 0 and q<len(a1):\n",
    "            arr[i] = a1[q]\n",
    "            q+=1\n",
    "        else:\n",
    "            arr[i] = a2[w]\n",
    "            w+=1\n",
    "    return arr\n",
    "\n",
    "if __name__ =='__main__':\n",
    "    # arr = [1,2,3,-4,-1,4]\n",
    "    arr = [-5,-2,5,2,4,7,1,8,0,-8]\n",
    "    arr = rearrange(arr)\n",
    "    print(arr)\n",
    "\n"
   ]
  }
 ],
 "metadata": {
  "kernelspec": {
   "display_name": "base",
   "language": "python",
   "name": "python3"
  },
  "language_info": {
   "codemirror_mode": {
    "name": "ipython",
    "version": 3
   },
   "file_extension": ".py",
   "mimetype": "text/x-python",
   "name": "python",
   "nbconvert_exporter": "python",
   "pygments_lexer": "ipython3",
   "version": "3.9.12"
  }
 },
 "nbformat": 4,
 "nbformat_minor": 2
}
