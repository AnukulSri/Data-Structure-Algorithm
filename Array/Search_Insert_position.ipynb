{
 "cells": [
  {
   "cell_type": "markdown",
   "metadata": {},
   "source": [
    "Given a sorted array of distinct integers and a target value, return the index if the target is found. If not, return the index where it would be if it were inserted in order.\n",
    "\n",
    "    Example 1:\n",
    "\n",
    "    Input: nums = [1,3,5,6], target = 5\n",
    "    Output: 2\n",
    "    Example 2:\n",
    "\n",
    "    Input: nums = [1,3,5,6], target = 2\n",
    "    Output: 1\n",
    "    Example 3:\n",
    "\n",
    "    Input: nums = [1,3,5,6], target = 7\n",
    "    Output: 4\n",
    " "
   ]
  },
  {
   "cell_type": "code",
   "execution_count": 7,
   "metadata": {},
   "outputs": [
    {
     "name": "stdout",
     "output_type": "stream",
     "text": [
      "4\n"
     ]
    }
   ],
   "source": [
    "class Solution:\n",
    "    def Search_Insert_Position(self,nums:list,target:int)-> int:\n",
    "        if target in nums:\n",
    "            return nums.index(target)\n",
    "        else :\n",
    "            for i in range(len(nums)):\n",
    "                if target < nums[i]:\n",
    "                    return i\n",
    "                elif target > nums[-1]:\n",
    "                    return len(nums)\n",
    "if __name__ == '__main__':\n",
    "    \n",
    "    nums = [1,3,5,6]\n",
    "    target = 7\n",
    "\n",
    "    \n",
    "    obj = Solution()\n",
    "    k = obj.Search_Insert_Position(nums,target)\n",
    "    print(k)\n",
    "\n"
   ]
  }
 ],
 "metadata": {
  "kernelspec": {
   "display_name": "base",
   "language": "python",
   "name": "python3"
  },
  "language_info": {
   "codemirror_mode": {
    "name": "ipython",
    "version": 3
   },
   "file_extension": ".py",
   "mimetype": "text/x-python",
   "name": "python",
   "nbconvert_exporter": "python",
   "pygments_lexer": "ipython3",
   "version": "3.9.12"
  }
 },
 "nbformat": 4,
 "nbformat_minor": 2
}
