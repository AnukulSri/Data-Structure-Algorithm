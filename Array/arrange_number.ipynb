{
 "cells": [
  {
   "cell_type": "markdown",
   "metadata": {},
   "source": [
    "## Move all negative numbers to beginning and positive to end with constant extra space\n",
    "\n",
    "    Input: -12, 11, -13, -5, 6, -7, 5, -3, -6\n",
    "    Output: -12 -13 -5 -7 -3 -6 11 6 5"
   ]
  },
  {
   "cell_type": "markdown",
   "metadata": {},
   "source": [
    "## First method by using sort  function"
   ]
  },
  {
   "cell_type": "code",
   "execution_count": 6,
   "metadata": {},
   "outputs": [
    {
     "name": "stdout",
     "output_type": "stream",
     "text": [
      "[-13, -12, -7, -6, -5, -3, 5, 6, 11]\n"
     ]
    }
   ],
   "source": [
    "arr = [-12,11,-13,-5,6,-7,5,-3,-6]\n",
    "arr.sort()\n",
    "print(arr)"
   ]
  },
  {
   "cell_type": "markdown",
   "metadata": {},
   "source": [
    "## Second Method by using sorting technique"
   ]
  },
  {
   "cell_type": "code",
   "execution_count": 8,
   "metadata": {},
   "outputs": [
    {
     "name": "stdout",
     "output_type": "stream",
     "text": [
      "[-13, -12, -7, -6, -5, -3, 5, 6, 11]\n"
     ]
    }
   ],
   "source": [
    "arr = [-12,11,-13,-5,6,-7,5,-3,-6]\n",
    "temp =0\n",
    "l= len(arr)\n",
    "for i in range(l):\n",
    "    for j in range(i+1,l):\n",
    "        if arr[j] < arr[i]:\n",
    "            temp = arr[i]\n",
    "            arr[i] = arr[j]\n",
    "            arr[j] = temp\n",
    "print(arr)"
   ]
  }
 ],
 "metadata": {
  "kernelspec": {
   "display_name": "base",
   "language": "python",
   "name": "python3"
  },
  "language_info": {
   "codemirror_mode": {
    "name": "ipython",
    "version": 3
   },
   "file_extension": ".py",
   "mimetype": "text/x-python",
   "name": "python",
   "nbconvert_exporter": "python",
   "pygments_lexer": "ipython3",
   "version": "3.9.12"
  }
 },
 "nbformat": 4,
 "nbformat_minor": 2
}
