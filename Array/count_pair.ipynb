{
 "cells": [
  {
   "cell_type": "markdown",
   "metadata": {},
   "source": [
    "## count pair with given sum\n",
    "\n",
    "    Input: arr[] = {1, 5, 7, -1}, K = 6\n",
    "    Output:  2\n",
    "    Explanation: Pairs with sum 6 are (1, 5) and (7, -1).\n",
    "\n",
    "    Input: arr[] = {1, 5, 7, -1, 5}, K = 6\n",
    "    Output:  3\n",
    "    Explanation: Pairs with sum 6 are (1, 5), (7, -1) & (1, 5).         \n",
    "\n"
   ]
  },
  {
   "cell_type": "code",
   "execution_count": 3,
   "metadata": {},
   "outputs": [
    {
     "name": "stdout",
     "output_type": "stream",
     "text": [
      "1 5\n",
      "7 -1\n",
      "number of pair which makes sum 6 is 2\n"
     ]
    }
   ],
   "source": [
    "arr = [1,5,7,-1]\n",
    "# arr = list(map(int,input().split()))\n",
    "k = int(input(\"ENter the number\"))\n",
    "c=0\n",
    "\n",
    "for i in range(len(arr)):\n",
    "    for j in range(i+1,len(arr)):\n",
    "        if arr[i] + arr[j] == k:\n",
    "            c +=1\n",
    "            print(arr[i],arr[j])\n",
    "print(f\"number of pair which makes sum {k} is {c}\")"
   ]
  }
 ],
 "metadata": {
  "kernelspec": {
   "display_name": "base",
   "language": "python",
   "name": "python3"
  },
  "language_info": {
   "codemirror_mode": {
    "name": "ipython",
    "version": 3
   },
   "file_extension": ".py",
   "mimetype": "text/x-python",
   "name": "python",
   "nbconvert_exporter": "python",
   "pygments_lexer": "ipython3",
   "version": "3.9.12"
  }
 },
 "nbformat": 4,
 "nbformat_minor": 2
}
