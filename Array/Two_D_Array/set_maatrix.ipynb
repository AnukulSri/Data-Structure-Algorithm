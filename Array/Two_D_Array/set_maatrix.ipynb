{
 "cells": [
  {
   "cell_type": "markdown",
   "metadata": {},
   "source": [
    "## Set Matrix"
   ]
  },
  {
   "cell_type": "code",
   "execution_count": 3,
   "metadata": {},
   "outputs": [
    {
     "name": "stdout",
     "output_type": "stream",
     "text": [
      "[1]\n",
      "[1] \n",
      "\n",
      "1 0 1 \n",
      "0 0 0 \n",
      "1 0 1 \n"
     ]
    }
   ],
   "source": [
    "l = [[1, 1, 1],[1, 0, 1],[1, 1, 1]]\n",
    "# l = [\n",
    "#         [1, 1, 2, 0],\n",
    "#         [0, 4, 5, 2],\n",
    "#         [1, 3, 1, 5]\n",
    "#     ]\n",
    "r1 = []\n",
    "c1 = []\n",
    "\n",
    "for i in range(len(l)):\n",
    "    for j in range(len(l[0])):\n",
    "        if l[i][j] == 0:\n",
    "            r1.append(i)\n",
    "            c1.append(j)\n",
    "print(r1)\n",
    "print(c1,\"\\n\")        \n",
    "for i in r1:\n",
    "    for j in range(len(l[0])):\n",
    "            l[i][j] = 0\n",
    "for i in c1:\n",
    "    for j in range(len(l)):\n",
    "        l[j][i] = 0\n",
    "\n",
    "\n",
    "for i in range(len(l)):\n",
    "     for j in range(len(l[0])):\n",
    "          print(l[i][j],end=\" \")\n",
    "     print()"
   ]
  }
 ],
 "metadata": {
  "kernelspec": {
   "display_name": "base",
   "language": "python",
   "name": "python3"
  },
  "language_info": {
   "codemirror_mode": {
    "name": "ipython",
    "version": 3
   },
   "file_extension": ".py",
   "mimetype": "text/x-python",
   "name": "python",
   "nbconvert_exporter": "python",
   "pygments_lexer": "ipython3",
   "version": "3.9.12"
  }
 },
 "nbformat": 4,
 "nbformat_minor": 2
}
