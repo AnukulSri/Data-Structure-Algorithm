{
 "cells": [
  {
   "cell_type": "markdown",
   "metadata": {},
   "source": [
    "## Intersection of Two Arrays\n",
    "\n",
    "    Given two integer arrays nums1 and nums2, return an array of their intersection. Each element in the result must be unique and you may return the result in any order.\n",
    "\n",
    "    \n",
    "\n",
    "    Example 1:\n",
    "\n",
    "    Input: nums1 = [1,2,2,1], nums2 = [2,2]\n",
    "    Output: [2]\n",
    "    Example 2:\n",
    "\n",
    "    Input: nums1 = [4,9,5], nums2 = [9,4,9,8,4]\n",
    "    Output: [9,4]\n",
    "    Explanation: [4,9] is also accepted."
   ]
  },
  {
   "cell_type": "code",
   "execution_count": 3,
   "metadata": {},
   "outputs": [
    {
     "name": "stdout",
     "output_type": "stream",
     "text": [
      "[9, 4]\n"
     ]
    }
   ],
   "source": [
    "class solution():\n",
    "    def intersect_of_two_array(self, nums1:list[int],nums2:list[int])-> list[int]:\n",
    "        nums1 = set(nums1)\n",
    "        nums2 =set(nums2)\n",
    "        l = len(nums1)\n",
    "        l2 = len(nums2)\n",
    "        res=[]\n",
    "        if l > l2:\n",
    "            for i in nums1:\n",
    "                if i in nums2:\n",
    "                    res.append(i)\n",
    "\n",
    "\n",
    "        else:\n",
    "            for i in nums2:\n",
    "                if i in nums1:\n",
    "                    res.append(i)\n",
    "        return res\n",
    "    \n",
    "if __name__ == '__main__':\n",
    "\n",
    "    n = [1,2,2,1]\n",
    "    n2 = [2,2]\n",
    "    n = [4,9,5]\n",
    "    n2 = [9,4,9,8,4]\n",
    "    obj = solution()\n",
    "    print(obj.intersect_of_two_array(n,n2))\n"
   ]
  }
 ],
 "metadata": {
  "kernelspec": {
   "display_name": "base",
   "language": "python",
   "name": "python3"
  },
  "language_info": {
   "codemirror_mode": {
    "name": "ipython",
    "version": 3
   },
   "file_extension": ".py",
   "mimetype": "text/x-python",
   "name": "python",
   "nbconvert_exporter": "python",
   "pygments_lexer": "ipython3",
   "version": "3.9.12"
  }
 },
 "nbformat": 4,
 "nbformat_minor": 2
}
