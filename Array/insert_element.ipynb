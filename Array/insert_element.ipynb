{
 "cells": [
  {
   "cell_type": "markdown",
   "metadata": {},
   "source": [
    "# Program to insert element at specific position"
   ]
  },
  {
   "cell_type": "code",
   "execution_count": 17,
   "metadata": {},
   "outputs": [
    {
     "name": "stdout",
     "output_type": "stream",
     "text": [
      "2\n",
      "3\n",
      "5\n",
      "[1, 8, 2, 3, 5]\n"
     ]
    }
   ],
   "source": [
    "arr = [1, 2, 3, 5]\n",
    "n = int(input(\"Enter a number to be insert\"))\n",
    "pos = int(input(\"Enter a position\"))\n",
    "\n",
    "def insert_element(arr, pos, n):\n",
    "    for i in range(pos, len(arr)):\n",
    "        # print(i)\n",
    "        arr[i], n = n, arr[i]\n",
    "        # print(n)\n",
    "\n",
    "    arr.append(n)\n",
    "\n",
    "insert_element(arr,pos,n)\n",
    "print(arr) "
   ]
  },
  {
   "cell_type": "markdown",
   "metadata": {},
   "source": [
    "- Note : the time complexity varies based on the position of insertion and is typically expressed as O(n) for the worst-case scenario.\n",
    "\n",
    "    If pos is at the beginning (index 0), the loop will iterate through the entire array, and the time complexity will be O(n).\n",
    "\n",
    "    If pos is at the end (index len(arr)), the insertion can be done in constant time without the need for the loop, resulting in O(1).\n",
    "\n",
    "    For an arbitrary position pos in the middle, the loop will iterate through a portion of the array, and the time complexity will be O(n - pos)."
   ]
  },
  {
   "cell_type": "markdown",
   "metadata": {},
   "source": [
    "### Another way"
   ]
  },
  {
   "cell_type": "code",
   "execution_count": 18,
   "metadata": {},
   "outputs": [
    {
     "name": "stdout",
     "output_type": "stream",
     "text": [
      "[1, 2, 3, 5, 6]\n"
     ]
    }
   ],
   "source": [
    "arr = [1, 2, 3, 5]\n",
    "n = int(input(\"Enter a number to be insert\"))\n",
    "pos = int(input(\"Enter a position\"))\n",
    "for i in range(pos,len(arr)):\n",
    "    temp =arr[i]\n",
    "    arr[i]=n\n",
    "    n=temp\n",
    "arr.append(n)\n",
    "print(arr)"
   ]
  }
 ],
 "metadata": {
  "kernelspec": {
   "display_name": "base",
   "language": "python",
   "name": "python3"
  },
  "language_info": {
   "codemirror_mode": {
    "name": "ipython",
    "version": 3
   },
   "file_extension": ".py",
   "mimetype": "text/x-python",
   "name": "python",
   "nbconvert_exporter": "python",
   "pygments_lexer": "ipython3",
   "version": "3.9.12"
  }
 },
 "nbformat": 4,
 "nbformat_minor": 2
}
