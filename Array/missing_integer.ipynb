{
 "cells": [
  {
   "cell_type": "markdown",
   "metadata": {},
   "source": [
    "## Find the missing integer.\n",
    "\n",
    "    Input: arr[] = {1, 2, 4, 6, 3, 7, 8}\n",
    "    Output: 5\n",
    "    Explanation: Here the size of the array is 7, so the range will be [1, 8]. The missing number between 1 to 8 is 5\n",
    "\n",
    "    Input: arr[] = {1, 2, 3, 5}, N = 5\n",
    "    Output: 4\n",
    "    Explanation: Here the size of the array is 4, so the range will be [1, 5]. The missing number between 1 to 5 is 4"
   ]
  },
  {
   "cell_type": "code",
   "execution_count": 1,
   "metadata": {},
   "outputs": [
    {
     "name": "stdout",
     "output_type": "stream",
     "text": [
      "Original array : [1, 2, 3, 4, 6, 7, 8]\n",
      "5\n"
     ]
    }
   ],
   "source": [
    "import numpy as np \n",
    "\n",
    "arr = [1,2,4,6,3,7,8]\n",
    "arr.sort()\n",
    "\n",
    "def missing_number(arr):\n",
    "    l = np.linspace(1,arr[len(arr)-1],arr[len(arr)-1])\n",
    "\n",
    "    for i in range(len(l)):\n",
    "        if l[i] not in arr:\n",
    "            print(int(l[i]))\n",
    "        \n",
    "     \n",
    "print(\"Original array :\",arr)\n",
    "missing_number(arr)\n"
   ]
  },
  {
   "cell_type": "code",
   "execution_count": 32,
   "metadata": {},
   "outputs": [
    {
     "name": "stdout",
     "output_type": "stream",
     "text": [
      "[1. 2. 3. 4. 5. 6. 7. 8.]\n",
      "True\n"
     ]
    }
   ],
   "source": [
    "# import numpy as np \n",
    "# arr= [1,2,3,6,7,4,8]\n",
    "# l = np.linspace(1,arr[len(arr)-1],arr[len(arr)-1])\n",
    "# print(l)\n",
    "# print(1 in l)"
   ]
  }
 ],
 "metadata": {
  "kernelspec": {
   "display_name": "base",
   "language": "python",
   "name": "python3"
  },
  "language_info": {
   "codemirror_mode": {
    "name": "ipython",
    "version": 3
   },
   "file_extension": ".py",
   "mimetype": "text/x-python",
   "name": "python",
   "nbconvert_exporter": "python",
   "pygments_lexer": "ipython3",
   "version": "3.9.12"
  }
 },
 "nbformat": 4,
 "nbformat_minor": 2
}
