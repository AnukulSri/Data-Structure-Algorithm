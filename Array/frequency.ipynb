{
 "cells": [
  {
   "cell_type": "markdown",
   "metadata": {},
   "source": [
    "## Count number of occurrences (or frequency) in a sorted array\n",
    "\n",
    "    Input: arr[] = {1, 1, 2, 2, 2, 2, 3,},   x = 2\n",
    "    Output: 4 // x (or 2) occurs 4 times in arr[]\n",
    "    Input: arr[] = {1, 1, 2, 2, 2, 2, 3,},   x = 3\n",
    "    Output: 1 \n",
    "    Input: arr[] = {1, 1, 2, 2, 2, 2, 3,},   x = 1\n",
    "    Output: 2 \n",
    "    Input: arr[] = {1, 1, 2, 2, 2, 2, 3,},   x = 4\n",
    "    Output: -1 // 4 doesn't occur in arr[] "
   ]
  },
  {
   "cell_type": "code",
   "execution_count": 1,
   "metadata": {},
   "outputs": [
    {
     "name": "stdout",
     "output_type": "stream",
     "text": [
      "5\n"
     ]
    }
   ],
   "source": [
    "arr = list(map(int,input().split()))\n",
    "l= len(arr)\n",
    "n = int(input(\"Enter a numner to find its frequency\"))\n",
    "freq = 0\n",
    "\n",
    "for i in range(l):\n",
    "    if arr[i] == n:\n",
    "        freq +=1\n",
    "print(freq)"
   ]
  }
 ],
 "metadata": {
  "kernelspec": {
   "display_name": "base",
   "language": "python",
   "name": "python3"
  },
  "language_info": {
   "codemirror_mode": {
    "name": "ipython",
    "version": 3
   },
   "file_extension": ".py",
   "mimetype": "text/x-python",
   "name": "python",
   "nbconvert_exporter": "python",
   "pygments_lexer": "ipython3",
   "version": "3.9.12"
  }
 },
 "nbformat": 4,
 "nbformat_minor": 2
}
