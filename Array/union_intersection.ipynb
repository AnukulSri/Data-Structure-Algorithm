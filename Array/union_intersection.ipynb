{
 "cells": [
  {
   "cell_type": "markdown",
   "metadata": {},
   "source": [
    "## Union and Intersection of two sorted arrays\n",
    "\n",
    "    Input: arr1[] = {1, 3, 4, 5, 7}\n",
    "            arr2[] = {2, 3, 5, 6} \n",
    "    Output: Union : {1, 2, 3, 4, 5, 6, 7} \n",
    "            Intersection : {3, 5}\n",
    "\n",
    "    Input: arr1[] = {2, 5, 6}\n",
    "            arr2[] = {4, 6, 8, 10} \n",
    "    Output: Union : {2, 4, 5, 6, 8, 10} \n",
    "            Intersection : {6}"
   ]
  },
  {
   "cell_type": "code",
   "execution_count": 10,
   "metadata": {},
   "outputs": [
    {
     "name": "stdout",
     "output_type": "stream",
     "text": [
      "Union :  [1, 2, 3, 4, 5, 6, 7]\n",
      "Intersection :  [3, 5]\n"
     ]
    }
   ],
   "source": [
    "arr1 = [1,3,4,5,7]\n",
    "arr2 = [2,3,5,6]\n",
    "\n",
    "def union_intersection(arr1,arr2):\n",
    "    arr1 = set(arr1)\n",
    "    arr2 = set(arr2)\n",
    "    res = list(arr1.union(arr2))\n",
    "    res2 = list(arr1.intersection(arr2))\n",
    "\n",
    "    print(\"Union : \",res)\n",
    "    print(\"Intersection : \",res2)\n",
    "\n",
    "union_intersection(arr1,arr2)"
   ]
  },
  {
   "cell_type": "code",
   "execution_count": 5,
   "metadata": {},
   "outputs": [
    {
     "name": "stdout",
     "output_type": "stream",
     "text": [
      "<class 'set'>\n"
     ]
    }
   ],
   "source": [
    "un= set()\n",
    "print(type(un))"
   ]
  }
 ],
 "metadata": {
  "kernelspec": {
   "display_name": "base",
   "language": "python",
   "name": "python3"
  },
  "language_info": {
   "codemirror_mode": {
    "name": "ipython",
    "version": 3
   },
   "file_extension": ".py",
   "mimetype": "text/x-python",
   "name": "python",
   "nbconvert_exporter": "python",
   "pygments_lexer": "ipython3",
   "version": "3.9.12"
  }
 },
 "nbformat": 4,
 "nbformat_minor": 2
}
