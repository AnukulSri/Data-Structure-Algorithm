{
 "cells": [
  {
   "cell_type": "markdown",
   "metadata": {},
   "source": [
    "## Maximum number of opration with same score\n",
    "\n",
    "    Given an array of integers called nums, you can perform the following operation while nums contains at least 2 elements:\n",
    "\n",
    "    Choose the first two elements of nums and delete them.\n",
    "    The score of the operation is the sum of the deleted elements.\n",
    "\n",
    "    Your task is to find the maximum number of operations that can be performed, such that all operations have the same score.\n",
    "\n",
    "    Return the maximum number of operations possible that satisfy the condition mentioned above."
   ]
  },
  {
   "cell_type": "markdown",
   "metadata": {},
   "source": [
    "###  Example 1:\n",
    "\n",
    "    Input: nums = [3,2,1,4,5]\n",
    "    Output: 2\n",
    "    Explanation: We perform the following operations:\n",
    "    - Delete the first two elements, with score 3 + 2 = 5, nums = [1,4,5].\n",
    "    - Delete the first two elements, with score 1 + 4 = 5, nums = [5].\n",
    "    We are unable to perform any more operations as nums contain only 1 element.\n",
    "\n",
    "### Example 2:\n",
    "\n",
    "    Input: nums = [3,2,6,1,4]\n",
    "    Output: 1\n",
    "    Explanation: We perform the following operations:\n",
    "    - Delete the first two elements, with score 3 + 2 = 5, nums = [6,1,4].\n",
    "    We are unable to perform any more operations as the score of the next operation isn't the same as the previous one."
   ]
  },
  {
   "cell_type": "code",
   "execution_count": 78,
   "metadata": {},
   "outputs": [
    {
     "name": "stdout",
     "output_type": "stream",
     "text": [
      "1\n"
     ]
    }
   ],
   "source": [
    "def max_op(nums):\n",
    "    sum = 0    \n",
    "    c=0\n",
    "    while True:\n",
    "        i=0\n",
    "        if len(nums) == 1:\n",
    "            return c\n",
    "        elif c == 0:\n",
    "            a = nums.pop(i)+nums.pop(i)\n",
    "            c+=1\n",
    "        else:\n",
    "            sum = nums.pop(i)+nums.pop(i)\n",
    "            if sum == a:\n",
    "                a = sum \n",
    "                c+=1\n",
    "            else:\n",
    "                break\n",
    "    return c\n",
    "\n",
    "if __name__ == '__main__':\n",
    "    nums = [3,2,1,4,5]\n",
    "    res = max_op(nums)\n",
    "    print(res)\n",
    "    \n",
    "        "
   ]
  },
  {
   "cell_type": "code",
   "execution_count": 12,
   "metadata": {},
   "outputs": [
    {
     "ename": "NameError",
     "evalue": "name 'res' is not defined",
     "output_type": "error",
     "traceback": [
      "\u001b[1;31m---------------------------------------------------------------------------\u001b[0m",
      "\u001b[1;31mNameError\u001b[0m                                 Traceback (most recent call last)",
      "Cell \u001b[1;32mIn [12], line 1\u001b[0m\n\u001b[1;32m----> 1\u001b[0m \u001b[43mres\u001b[49m\n",
      "\u001b[1;31mNameError\u001b[0m: name 'res' is not defined"
     ]
    }
   ],
   "source": [
    "res"
   ]
  },
  {
   "cell_type": "code",
   "execution_count": 5,
   "metadata": {},
   "outputs": [
    {
     "data": {
      "text/plain": [
       "3"
      ]
     },
     "execution_count": 5,
     "metadata": {},
     "output_type": "execute_result"
    }
   ],
   "source": [
    "l = [1,2,3,4,5]\n",
    "i=0\n",
    "a = l.pop(i) + l.pop(i)\n",
    "a"
   ]
  },
  {
   "cell_type": "code",
   "execution_count": 72,
   "metadata": {},
   "outputs": [
    {
     "data": {
      "text/plain": [
       "[3, 4, 5]"
      ]
     },
     "execution_count": 72,
     "metadata": {},
     "output_type": "execute_result"
    }
   ],
   "source": [
    "l = [1,2,3,4,5]\n",
    "sum = l.pop(0)+l.pop(0)\n"
   ]
  }
 ],
 "metadata": {
  "kernelspec": {
   "display_name": "base",
   "language": "python",
   "name": "python3"
  },
  "language_info": {
   "codemirror_mode": {
    "name": "ipython",
    "version": 3
   },
   "file_extension": ".py",
   "mimetype": "text/x-python",
   "name": "python",
   "nbconvert_exporter": "python",
   "pygments_lexer": "ipython3",
   "version": "3.9.12"
  }
 },
 "nbformat": 4,
 "nbformat_minor": 2
}
