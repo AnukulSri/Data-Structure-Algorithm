{
 "cells": [
  {
   "cell_type": "markdown",
   "metadata": {},
   "source": [
    "## Split array \n",
    "\n",
    "    You are given an integer array nums of even length. You have to split the array into two parts nums1 and nums2 such that:\n",
    "\n",
    "    - nums1.length == nums2.length == nums.length / 2.\n",
    "    - nums1 should contain distinct elements.\n",
    "    - nums2 should also contain distinct elements.\n",
    "    Return true if it is possible to split the array, and false otherwise."
   ]
  },
  {
   "cell_type": "markdown",
   "metadata": {},
   "source": [
    "### Example 1:\n",
    "\n",
    "    Input: nums = [1,1,2,2,3,4]\n",
    "    Output: true\n",
    "    Explanation: One of the possible ways to split nums is nums1 = [1,2,3] and nums2 = [1,2,4]."
   ]
  },
  {
   "cell_type": "code",
   "execution_count": 4,
   "metadata": {},
   "outputs": [
    {
     "name": "stdout",
     "output_type": "stream",
     "text": [
      "False\n"
     ]
    }
   ],
   "source": [
    "# nums = [1,1,2,2,3,4]\n",
    "nums=[1,1,1,1]\n",
    "nums.sort()\n",
    "a1 =[]\n",
    "a2 =[]\n",
    "c=0\n",
    "for i in range(len(nums)):\n",
    "    if i%2 == 0:\n",
    "        if nums[i] in a1 :\n",
    "            # print(False)c\n",
    "            c+=1\n",
    "            break\n",
    "        else :\n",
    "            a1.append(nums[i])\n",
    "    else :\n",
    "        if nums[i] in a2:\n",
    "            c+=1\n",
    "            break\n",
    "        else:\n",
    "            a2.append(nums[i])\n",
    "if len(a1) == len(a2) and c == 0:\n",
    "    print(True)\n",
    "else:\n",
    "    print(False)\n"
   ]
  }
 ],
 "metadata": {
  "kernelspec": {
   "display_name": "base",
   "language": "python",
   "name": "python3"
  },
  "language_info": {
   "codemirror_mode": {
    "name": "ipython",
    "version": 3
   },
   "file_extension": ".py",
   "mimetype": "text/x-python",
   "name": "python",
   "nbconvert_exporter": "python",
   "pygments_lexer": "ipython3",
   "version": "3.9.12"
  }
 },
 "nbformat": 4,
 "nbformat_minor": 2
}
