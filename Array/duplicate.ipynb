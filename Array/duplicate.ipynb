{
 "cells": [
  {
   "cell_type": "markdown",
   "metadata": {},
   "source": [
    "## Find duplicates in O(n) time and O(1) extra space\n",
    "\n",
    "    Input: n=7 , array[]={1, 2, 3, 6, 3, 6, 1}\n",
    "    Output: 1, 3, 6\n",
    "    Explanation: The numbers 1 , 3 and 6 appears more than once in the array.\n",
    "\n",
    "\n",
    "    Input : n = 5 and array[] = {1, 2, 3, 4 ,3}\n",
    "    Output: 3\n",
    "    Explanation: The number 3 appears more than once in the array."
   ]
  },
  {
   "cell_type": "code",
   "execution_count": 21,
   "metadata": {},
   "outputs": [
    {
     "name": "stdout",
     "output_type": "stream",
     "text": [
      "3 "
     ]
    }
   ],
   "source": [
    "# arr=[ 1,2,3,6,3,6,1]\n",
    "arr = [1,2,3,4,3]\n",
    "arr.sort()\n",
    "for i in range(len(arr)-1):\n",
    "    if arr[i] == arr[i+1]:\n",
    "        print(arr[i],end= ' ')"
   ]
  },
  {
   "cell_type": "code",
   "execution_count": 12,
   "metadata": {},
   "outputs": [
    {
     "name": "stdout",
     "output_type": "stream",
     "text": [
      "3 6 1 "
     ]
    }
   ],
   "source": [
    "n = int(input(\"Enter a number\"))\n",
    "arr= list(map(int,input().split()))\n",
    "p =[]\n",
    "for i in range(n):\n",
    "    if arr[i] in p:\n",
    "        print(arr[i],end=' ')\n",
    "    p.append(arr[i])\n",
    "\n",
    "\n"
   ]
  }
 ],
 "metadata": {
  "kernelspec": {
   "display_name": "base",
   "language": "python",
   "name": "python3"
  },
  "language_info": {
   "codemirror_mode": {
    "name": "ipython",
    "version": 3
   },
   "file_extension": ".py",
   "mimetype": "text/x-python",
   "name": "python",
   "nbconvert_exporter": "python",
   "pygments_lexer": "ipython3",
   "version": "3.9.12"
  }
 },
 "nbformat": 4,
 "nbformat_minor": 2
}
