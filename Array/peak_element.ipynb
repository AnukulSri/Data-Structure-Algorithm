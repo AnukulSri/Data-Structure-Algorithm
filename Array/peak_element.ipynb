{
 "cells": [
  {
   "cell_type": "markdown",
   "metadata": {},
   "source": [
    "## Find peak element which is not smaller than its neighbour\n",
    " \n",
    "    Input: array[]= {5, 10, 20, 15}\n",
    "    Output: 20\n",
    "    Explanation: The element 20 has neighbors 10 and 15, both of them are less than 20.\n",
    "\n",
    "    Input: array[] = {10, 20, 15, 2, 23, 90, 67}\n",
    "    Output: 20 or 90"
   ]
  },
  {
   "cell_type": "code",
   "execution_count": 4,
   "metadata": {},
   "outputs": [
    {
     "name": "stdout",
     "output_type": "stream",
     "text": [
      "20\n",
      "90\n"
     ]
    }
   ],
   "source": [
    "# arr = [5,10,20,15]\n",
    "arr = list(map(int,input().split()))\n",
    "for i in range(len(arr)-1):\n",
    "    if arr[i] > arr[i+1] and arr[i] > arr[i-1]:\n",
    "        print(arr[i])"
   ]
  }
 ],
 "metadata": {
  "kernelspec": {
   "display_name": "base",
   "language": "python",
   "name": "python3"
  },
  "language_info": {
   "codemirror_mode": {
    "name": "ipython",
    "version": 3
   },
   "file_extension": ".py",
   "mimetype": "text/x-python",
   "name": "python",
   "nbconvert_exporter": "python",
   "pygments_lexer": "ipython3",
   "version": "3.9.12"
  }
 },
 "nbformat": 4,
 "nbformat_minor": 2
}
