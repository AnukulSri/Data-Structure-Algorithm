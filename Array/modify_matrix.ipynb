{
 "cells": [
  {
   "cell_type": "markdown",
   "metadata": {},
   "source": [
    "## modify matrix\n",
    "\n",
    "    Given a 0-indexed m x n integer matrix matrix, create a new 0-indexed matrix called answer. Make answer equal to matrix, then replace each element with the value -1 with the maximum element in its respective column.\n",
    "\n",
    "    Return the matrix answer."
   ]
  },
  {
   "cell_type": "markdown",
   "metadata": {},
   "source": [
    "### Example 1:\n",
    "\n",
    "\n",
    "    Input: matrix = [[1,2,-1],[4,-1,6],[7,8,9]]\n",
    "    Output: [[1,2,9],[4,8,6],[7,8,9]]\n",
    "    Explanation: The diagram above shows the elements that are changed (in blue).\n",
    "    - We replace the value in the cell [1][1] with the maximum value in the column 1, that is 8.\n",
    "    - We replace the value in the cell [0][2] with the maximum value in the column 2, that is 9."
   ]
  },
  {
   "cell_type": "code",
   "execution_count": null,
   "metadata": {},
   "outputs": [],
   "source": [
    "# matrix = [[1,2,-1],[1,-1,3]]\n",
    "matrix= [[1,2,-1],[4,-1,6],[7,8,9]]\n",
    "# matrix = [[3,-1],[5,2]]\n",
    "# matrix = [[-1,0,0,2,2],[2,0,0,2,1],[4,3,2,1,1],[-1,-1,0,2,4],[1,0,3,-1,0]]\n",
    "m = len(matrix)\n",
    "n = len(matrix[0])\n",
    "answer = matrix.copy()\n",
    "for i in range(n):\n",
    "    maxi=0\n",
    "    for j in range(m):\n",
    "        maxi=max(maxi, answer[j][i])\n",
    "    for j in range(m):\n",
    "        if answer[j][i] == -1:\n",
    "            answer[j][i] = maxi\n",
    "\n",
    "print(answer)"
   ]
  }
 ],
 "metadata": {
  "kernelspec": {
   "display_name": "base",
   "language": "python",
   "name": "python3"
  },
  "language_info": {
   "codemirror_mode": {
    "name": "ipython",
    "version": 3
   },
   "file_extension": ".py",
   "mimetype": "text/x-python",
   "name": "python",
   "nbconvert_exporter": "python",
   "pygments_lexer": "ipython3",
   "version": "3.9.12"
  }
 },
 "nbformat": 4,
 "nbformat_minor": 2
}
