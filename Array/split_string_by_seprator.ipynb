{
 "cells": [
  {
   "cell_type": "markdown",
   "metadata": {},
   "source": [
    "## Split Strings by Separator\n",
    "\n",
    "    Given an array of strings words and a character separator, split each string in words by separator.\n",
    "\n",
    "    Return an array of strings containing the new strings formed after the splits, excluding empty strings.\n",
    "\n",
    "    Example 1:\n",
    "\n",
    "    Input: words = [\"one.two.three\",\"four.five\",\"six\"], separator = \".\"\n",
    "    Output: [\"one\",\"two\",\"three\",\"four\",\"five\",\"six\"]\n",
    "    Explanation: In this example we split as follows:\n",
    "\n",
    "    \"one.two.three\" splits into \"one\", \"two\", \"three\"\n",
    "    \"four.five\" splits into \"four\", \"five\"\n",
    "    \"six\" splits into \"six\" \n",
    "\n",
    "    Hence, the resulting array is [\"one\",\"two\",\"three\",\"four\",\"five\",\"six\"].\n",
    "    Example 2:\n",
    "\n",
    "    Input: words = [\"$easy$\",\"$problem$\"], separator = \"$\"\n",
    "    Output: [\"easy\",\"problem\"]\n",
    "    Explanation: In this example we split as follows: \n",
    "\n",
    "    \"$easy$\" splits into \"easy\" (excluding empty strings)\n",
    "    \"$problem$\" splits into \"problem\" (excluding empty strings)\n",
    "\n",
    "    Hence, the resulting array is [\"easy\",\"problem\"].\n",
    "    Example 3:\n",
    "\n",
    "    Input: words = [\"|||\"], separator = \"|\"\n",
    "    Output: []\n",
    "    Explanation: In this example the resulting split of \"|||\" will contain only empty strings, so we return an empty array []. "
   ]
  },
  {
   "cell_type": "code",
   "execution_count": 3,
   "metadata": {},
   "outputs": [],
   "source": [
    "words = [\"|||\"]\n",
    "# words = [\"one.two.three\",\"four.five\",\"six\"]\n",
    "# separator = \".\"\n",
    "separator = \"|\"\n",
    "word = \"\"\n",
    "for i in range(len(words)):\n",
    "    if i == (len(words)-1):\n",
    "        word = word + words[i]\n",
    "    else:\n",
    "        word = word + words[i] + separator\n",
    "word = word.split(separator)\n",
    "\n",
    "# Filter out empty strings\n",
    "    \n",
    "word = [w for w in word if w != '']\n"
   ]
  }
 ],
 "metadata": {
  "kernelspec": {
   "display_name": "base",
   "language": "python",
   "name": "python3"
  },
  "language_info": {
   "codemirror_mode": {
    "name": "ipython",
    "version": 3
   },
   "file_extension": ".py",
   "mimetype": "text/x-python",
   "name": "python",
   "nbconvert_exporter": "python",
   "pygments_lexer": "ipython3",
   "version": "3.9.12"
  }
 },
 "nbformat": 4,
 "nbformat_minor": 2
}
