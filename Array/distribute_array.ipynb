{
 "cells": [
  {
   "cell_type": "markdown",
   "metadata": {},
   "source": [
    "## distribute array elements into teo array\n",
    "\n",
    "- you are given a 1-indexed array of distinct integers nums of length n.\n",
    "\n",
    "- You need to distribute all the elements of nums between two arrays arr1 and arr2 using n operations. In the first operation, append nums[1] to arr1. In the second operation, append nums[2] to arr2. Afterwards, in the ith operation:\n",
    "\n",
    "- If the last element of arr1 is greater than the last element of arr2, append nums[i] to arr1. Otherwise, append nums[i] to arr2.\n",
    "The array result is formed by concatenating the arrays arr1 and arr2. For example, if arr1 == [1,2,3] and arr2 == [4,5,6], then result = [1,2,3,4,5,6].\n",
    "\n",
    "- Return the array result."
   ]
  },
  {
   "cell_type": "markdown",
   "metadata": {},
   "source": [
    "#### Example 1:\n",
    "\n",
    "    Input: nums = [2,1,3]\n",
    "    Output: [2,3,1]\n",
    "    Explanation: After the first 2 operations, arr1 = [2] and arr2 = [1].\n",
    "    In the 3rd operation, as the last element of arr1 is greater than the last element of arr2 (2 > 1), append nums[3] to arr1.\n",
    "    After 3 operations, arr1 = [2,3] and arr2 = [1].\n",
    "    Hence, the array result formed by concatenation is [2,3,1]."
   ]
  },
  {
   "cell_type": "code",
   "execution_count": null,
   "metadata": {},
   "outputs": [],
   "source": [
    "a = [5,4,3,8]\n",
    "l =[]\n",
    "l2=[]\n",
    "l.append(a[0])\n",
    "l2.append(a[1])\n",
    "# print(l[0])\n",
    "for i in range(2,len(a)):\n",
    "    if l[len(l)-1] > l2[len(l2)-1]:\n",
    "        l.append(a[i])\n",
    "    else:\n",
    "        l2.append(a[i])\n",
    "l.extend(l2)\n",
    "print(l)"
   ]
  }
 ],
 "metadata": {
  "language_info": {
   "name": "python"
  }
 },
 "nbformat": 4,
 "nbformat_minor": 2
}
