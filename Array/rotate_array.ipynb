{
 "cells": [
  {
   "cell_type": "markdown",
   "metadata": {},
   "source": [
    "## Rotate array to left by specified places\n",
    "\n",
    "    l = [10,20,30,40,50]\n",
    "    d = 3\n",
    "    ans = [40,50,10,20,30]\n",
    "    left rotate by 3"
   ]
  },
  {
   "cell_type": "markdown",
   "metadata": {},
   "source": [
    "### By slicing method"
   ]
  },
  {
   "cell_type": "code",
   "execution_count": 2,
   "metadata": {},
   "outputs": [
    {
     "name": "stdout",
     "output_type": "stream",
     "text": [
      "[40, 50]\n"
     ]
    }
   ],
   "source": [
    "arr = list(map(int,input().split()))\n",
    "n = int(input(\"Enter a number\"))\n",
    "\n",
    "l = arr[n:] + arr[0:n]\n",
    "print(l)\n"
   ]
  },
  {
   "cell_type": "markdown",
   "metadata": {},
   "source": [
    "### using loop"
   ]
  },
  {
   "cell_type": "code",
   "execution_count": 4,
   "metadata": {},
   "outputs": [
    {
     "name": "stdout",
     "output_type": "stream",
     "text": [
      "[40, 50, 10, 20, 30]\n"
     ]
    }
   ],
   "source": [
    "arr = list(map(int,input().split()))\n",
    "n = int(input(\"Enter a number\"))\n",
    "\n",
    "for i in range(n):\n",
    "    arr.append(arr.pop(0))\n",
    "print(arr)"
   ]
  },
  {
   "cell_type": "code",
   "execution_count": 11,
   "metadata": {},
   "outputs": [
    {
     "name": "stdout",
     "output_type": "stream",
     "text": [
      "[30, 40, 50, 10, 20]\n"
     ]
    }
   ],
   "source": [
    "arr = list(map(int,input().split()))\n",
    "n = int(input(\"Enter a number\"))\n",
    "\n",
    "for i in range(n):\n",
    "    temp = arr[0]\n",
    "    for j in range(len(arr)-1):\n",
    "        arr[j] = arr[j+1]\n",
    "    arr[len(arr)-1] = temp\n",
    "print(arr)\n"
   ]
  },
  {
   "cell_type": "markdown",
   "metadata": {},
   "source": [
    "# Rotate array from right"
   ]
  },
  {
   "cell_type": "code",
   "execution_count": 53,
   "metadata": {},
   "outputs": [
    {
     "name": "stdout",
     "output_type": "stream",
     "text": [
      "[20, 30, 40, 50, 10]\n"
     ]
    }
   ],
   "source": [
    "# arr = list(map(int,input().split()))\n",
    "arr= [10,20,30,40,50]\n",
    "n = int(input(\"Enter a number of rotation\"))\n",
    "\n",
    "for i in range(n):\n",
    "    temp = arr[0]\n",
    "    arr = arr[-1:] + arr[:len(arr)-1]\n",
    "print(arr)\n",
    "   "
   ]
  }
 ],
 "metadata": {
  "kernelspec": {
   "display_name": "base",
   "language": "python",
   "name": "python3"
  },
  "language_info": {
   "codemirror_mode": {
    "name": "ipython",
    "version": 3
   },
   "file_extension": ".py",
   "mimetype": "text/x-python",
   "name": "python",
   "nbconvert_exporter": "python",
   "pygments_lexer": "ipython3",
   "version": "3.9.12"
  }
 },
 "nbformat": 4,
 "nbformat_minor": 2
}
