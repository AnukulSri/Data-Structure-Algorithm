{
 "cells": [
  {
   "cell_type": "markdown",
   "metadata": {},
   "source": [
    "## Program to find the minimum (or maximum) element of an array\n",
    "\n",
    "    Input : a = [1, 423, 6, 46, 34, 23, 13, 53, 4]\n",
    "    Output : \n",
    "    min = 1\n",
    "    max = 423"
   ]
  },
  {
   "cell_type": "code",
   "execution_count": 3,
   "metadata": {},
   "outputs": [
    {
     "name": "stdout",
     "output_type": "stream",
     "text": [
      "min =  -4\n",
      "max =  897\n"
     ]
    }
   ],
   "source": [
    "arr = list(map(int,input().split()))\n",
    "min = arr[0]\n",
    "max = arr[0]\n",
    "\n",
    "for i in range(len(arr)):\n",
    "    if arr[i] < min :\n",
    "        min = arr[i]\n",
    "    elif arr[i] > max:\n",
    "        max = arr[i]\n",
    "print(\"min = \",min)\n",
    "print(\"max = \",max)\n",
    "\n"
   ]
  },
  {
   "cell_type": "code",
   "execution_count": 5,
   "metadata": {},
   "outputs": [
    {
     "name": "stdout",
     "output_type": "stream",
     "text": [
      "minimum number is:  1\n",
      "maximum number is:  432\n"
     ]
    }
   ],
   "source": [
    "arr = [1, 242,6,43, 23,13, 35,4,2,432]\n",
    "arr = sorted(arr)\n",
    "print(\"minimum number is: \",arr[0])\n",
    "print(\"maximum number is: \",arr[len(arr)-1])"
   ]
  }
 ],
 "metadata": {
  "kernelspec": {
   "display_name": "base",
   "language": "python",
   "name": "python3"
  },
  "language_info": {
   "codemirror_mode": {
    "name": "ipython",
    "version": 3
   },
   "file_extension": ".py",
   "mimetype": "text/x-python",
   "name": "python",
   "nbconvert_exporter": "python",
   "pygments_lexer": "ipython3",
   "version": "3.9.12"
  }
 },
 "nbformat": 4,
 "nbformat_minor": 2
}
