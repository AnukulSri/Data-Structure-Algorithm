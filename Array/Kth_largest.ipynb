{
 "cells": [
  {
   "cell_type": "markdown",
   "metadata": {},
   "source": [
    "## find K’th Smallest/Largest Element in Unsorted Array\n",
    "\n",
    "    Input: arr[] = {7, 10, 4, 3, 20, 15}, K = 3 \n",
    "    Output: 7\n",
    "\n",
    "    Input: arr[] = {7, 10, 4, 3, 20, 15}, K = 4 \n",
    "    Output: 10 "
   ]
  },
  {
   "cell_type": "code",
   "execution_count": 6,
   "metadata": {},
   "outputs": [
    {
     "name": "stdout",
     "output_type": "stream",
     "text": [
      "10\n"
     ]
    }
   ],
   "source": [
    "arr = list(map(int,input().split()))\n",
    "l = len(arr)\n",
    "n = int(input(\"Enter a number\"))\n",
    "\n",
    "arr.sort()\n",
    "\n",
    "print(arr[n-1])\n",
    "  "
   ]
  }
 ],
 "metadata": {
  "kernelspec": {
   "display_name": "base",
   "language": "python",
   "name": "python3"
  },
  "language_info": {
   "codemirror_mode": {
    "name": "ipython",
    "version": 3
   },
   "file_extension": ".py",
   "mimetype": "text/x-python",
   "name": "python",
   "nbconvert_exporter": "python",
   "pygments_lexer": "ipython3",
   "version": "3.9.12"
  }
 },
 "nbformat": 4,
 "nbformat_minor": 2
}
