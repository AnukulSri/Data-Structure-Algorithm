{
 "cells": [
  {
   "cell_type": "markdown",
   "metadata": {},
   "source": [
    "## First Missing Positive\n",
    "\n",
    "    Given an unsorted integer array nums. Return the smallest positive integer that is not present in nums.\n",
    "\n",
    "    You must implement an algorithm that runs in O(n) time and uses O(1) auxiliary space.\n",
    "\n",
    "    \n",
    "\n",
    "    Example 1:\n",
    "\n",
    "    Input: nums = [1,2,0]\n",
    "    Output: 3\n",
    "    Explanation: The numbers in the range [1,2] are all in the array.\n",
    "    Example 2:\n",
    "\n",
    "    Input: nums = [3,4,-1,1]\n",
    "    Output: 2\n",
    "    Explanation: 1 is in the array but 2 is missing.\n",
    "    Example 3:\n",
    "\n",
    "    Input: nums = [7,8,9,11,12]\n",
    "    Output: 1\n",
    "    Explanation: The smallest positive integer 1 is missing.\n",
    "    "
   ]
  },
  {
   "cell_type": "code",
   "execution_count": 34,
   "metadata": {},
   "outputs": [
    {
     "name": "stdout",
     "output_type": "stream",
     "text": [
      "1\n"
     ]
    }
   ],
   "source": [
    "class solution():\n",
    "    def missing_positive_integer(self,x :list[int])-> int:\n",
    "        s = set(x)\n",
    "        i = 1\n",
    "        while i in s:\n",
    "                i +=1\n",
    "        return i\n",
    "\n",
    "if __name__ =='__main__':\n",
    "\n",
    "    x = list(map(int,input().split()))\n",
    "    obj = solution()\n",
    "    print(obj.missing_positive_integer(x))"
   ]
  }
 ],
 "metadata": {
  "kernelspec": {
   "display_name": "base",
   "language": "python",
   "name": "python3"
  },
  "language_info": {
   "codemirror_mode": {
    "name": "ipython",
    "version": 3
   },
   "file_extension": ".py",
   "mimetype": "text/x-python",
   "name": "python",
   "nbconvert_exporter": "python",
   "pygments_lexer": "ipython3",
   "version": "3.9.12"
  }
 },
 "nbformat": 4,
 "nbformat_minor": 2
}
